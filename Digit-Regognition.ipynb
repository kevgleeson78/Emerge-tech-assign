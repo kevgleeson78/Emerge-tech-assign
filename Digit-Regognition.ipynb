{
 "cells": [
  {
   "cell_type": "markdown",
   "metadata": {},
   "source": [
    "# Digital recognition with the mnist dataset\n",
    "\n",
    "This notebook will investigate the classification and identification of hand written digits using a neural network.<br/>\n",
    "The mnist dataset will be first used to train the network and then test the networks performance in recognising a digit.<br/>\n",
    "Once training has been completed a single image from the dataset will be passed to the network and the result will be displayed to the screen along with the actual digit expected.<br/>\n",
    "![Mnist Image](https://corochann.com/wp-content/uploads/2017/02/mnist_plot-800x600.png)\n",
    "<cite>Image source https://corochann.com/wp-content/uploads/2017/02/mnist_plot-800x600.png</cite>\n"
   ]
  },
  {
   "cell_type": "markdown",
   "metadata": {},
   "source": [
    "## Packages needed for the program to run\n",
    "\n",
    "The following packages will need to be imported for creating the network and importing the images to memory:\n",
    "* The keras package used for creating the network\n",
    "* The gzip package used for unzipping the dataset images and labels\n",
    "* The numpy package used for altering the dataset into numpy arrays\n",
    "* The sklearn pre-processing package used for classification and binary encoding each digit\n",
    "* The random package used to generate a random value for the test images\n",
    "\n"
   ]
  },
  {
   "cell_type": "code",
   "execution_count": 1,
   "metadata": {},
   "outputs": [
    {
     "name": "stderr",
     "output_type": "stream",
     "text": [
      "C:\\Users\\Kevin\\Anaconda3\\lib\\site-packages\\h5py\\__init__.py:36: FutureWarning: Conversion of the second argument of issubdtype from `float` to `np.floating` is deprecated. In future, it will be treated as `np.float64 == np.dtype(float).type`.\n",
      "  from ._conv import register_converters as _register_converters\n",
      "Using TensorFlow backend.\n"
     ]
    }
   ],
   "source": [
    "# Importing the packages \n",
    "import keras as kr\n",
    "import numpy as np\n",
    "import sklearn.preprocessing as pre\n",
    "import gzip"
   ]
  },
  {
   "cell_type": "markdown",
   "metadata": {},
   "source": [
    "## Building the neural network\n",
    "To begin we need to initialise the network using the sequential model.<br/>\n",
    "This allows us to add layers as we need them. <br/>\n",
    "These layers can be tweaked to increase performance.<br/>\n",
    "We will investigate this later in the notebook.\n",
    "\n"
   ]
  },
  {
   "cell_type": "code",
   "execution_count": 2,
   "metadata": {},
   "outputs": [],
   "source": [
    "# Initialise the neural network\n",
    "model = kr.models.Sequential()"
   ]
  },
  {
   "cell_type": "markdown",
   "metadata": {},
   "source": [
    "## Adding the layers to the network\n",
    "To add layers to the network the layers method from keras will be used.<br/>\n",
    "There will be a dense connection between neurons meaning that every neuron from the input is connected to every neuron in the middle layer and every neuron frim the middle layer is connected to every neuron on the output layer.\n",
    "\n",
    "![Neural Network](https://cdn-images-1.medium.com/max/800/1*jYhgQ4I_oFdxgDD-AOgV1w.png)\n",
    "<cite>Image source https://cdn-images-1.medium.com/max/800/1*jYhgQ4I_oFdxgDD-AOgV1w.pngS</cite>\n",
    "\n",
    "* In the below code segment the units attribute represents the amount of neurons that will be in the middle layer in this case we have 1000 neurons.<br/>\n",
    "* The activation attribute sets the activation function in this case we are using  [relu activation](https://keras.io/activations/) the relu activation has a steeper gradient than softmax and as a result speeds up the training process without the loss of performance. \n",
    "\n",
    "* The final attribute is used to set the amount of input neurons the network has. In the below example the number is set to 784 as this is equal to the number of bytes each image has within the mnist dataset.\n"
   ]
  },
  {
   "cell_type": "code",
   "execution_count": 3,
   "metadata": {},
   "outputs": [],
   "source": [
    "# Add a hidden(middle layer) with 1000 neurons and an input layer with 784.\n",
    "# There are 784 input neurons as this value is equal to the total amount of bytes each image has.\n",
    "model.add(kr.layers.Dense(units=1000, activation='relu', input_dim=784))\n"
   ]
  },
  {
   "cell_type": "markdown",
   "metadata": {},
   "source": [
    "## Output layer\n",
    "The output layer has ten neurons that will map to the amount of training labels that are within the dataset. The predicted results are sent from the middle layer to the output layer and compared to the actual number that has been sent in as image data.<br/>\n",
    "The closer to the value one the result is the more accurate the algorithm is performing.<br/>\n",
    "While this process is repeating the loss point of gradient decent converges towards the base of the slope. <br/>\n",
    "The process ends when all of the epochs have completed which will be explained later in this notebook.\n"
   ]
  },
  {
   "cell_type": "code",
   "execution_count": 4,
   "metadata": {},
   "outputs": [],
   "source": [
    "# Add ten neurons to the output layer\n",
    "model.add(kr.layers.Dense(units=10, activation='softmax'))"
   ]
  },
  {
   "cell_type": "markdown",
   "metadata": {},
   "source": [
    "## Building the model\n",
    "\n",
    "The compile method is used to build the model based on each layer created along with their connections specified in the above cell.</br>\n",
    "* The first argument [categorical_crossentropy](https://keras.io/losses/) creates a vector to hold the values of each digit as a binary representation, this will be set with the pre.LabelBinarizer() to be discussed further in this notebook.\n",
    "* The second optimizer argument is set to [stochastic gradient descent optimizer](https://keras.io/optimizers/) This sets the learning rate, and the decay of this learning rate over time.\n",
    "* The final argument [metrics](https://keras.io/metrics/) is used to output the performance to the neural network after each run of data has been sent from the central layer to the output layer."
   ]
  },
  {
   "cell_type": "code",
   "execution_count": 5,
   "metadata": {},
   "outputs": [],
   "source": [
    "# Build the graph.\n",
    "model.compile(loss='categorical_crossentropy', optimizer='sgd', metrics=['accuracy'])"
   ]
  },
  {
   "cell_type": "markdown",
   "metadata": {},
   "source": [
    "## Opening the files in .gz format\n",
    "\n",
    "As discussed in my previous [mnist notebook](https://github.com/kevgleeson78/Emerge-tech-assign/blob/master/Mnist%20Dataset.ipynb) the gzipped files are opened and read using the gzip package.\n"
   ]
  },
  {
   "cell_type": "code",
   "execution_count": 6,
   "metadata": {},
   "outputs": [],
   "source": [
    "# Open the gzipped files and read as bytes.\n",
    "with gzip.open('data/train-images-idx3-ubyte.gz', 'rb') as f:\n",
    "    train_img = f.read()\n",
    "\n",
    "with gzip.open('data/train-labels-idx1-ubyte.gz', 'rb') as f:\n",
    "    train_lbl = f.read()"
   ]
  },
  {
   "cell_type": "markdown",
   "metadata": {},
   "source": [
    "## Reading in the data into memory\n",
    "\n",
    "Each of the 60000 images and labels are then stored into their respective variables.<br/>\n",
    "We dived by 255 to convert the grey scale value to a value between one and zero.<br/>\n",
    "These values are then used by the neural network in conjunction with the softmax function.\n"
   ]
  },
  {
   "cell_type": "code",
   "execution_count": 7,
   "metadata": {},
   "outputs": [],
   "source": [
    "# read in all images and labels into memory\n",
    "train_img = ~np.array(list(train_img[16:])).reshape(60000, 28, 28).astype(np.uint8) / 255.0\n",
    "train_lbl =  np.array(list(train_lbl[8:])).astype(np.uint8)"
   ]
  },
  {
   "cell_type": "markdown",
   "metadata": {},
   "source": [
    "## Flattening the data into a single array\n",
    "The data is converted from a three dimensional array to a one dimensional array where all of the image bytes (28 *28) 784 are sequentially stored one after another.<br/>\n",
    "This technique is used so each byte representing the image can have a one to one mapping to the neural networks input layer.\n"
   ]
  },
  {
   "cell_type": "code",
   "execution_count": 8,
   "metadata": {},
   "outputs": [
    {
     "data": {
      "text/plain": [
       "array([[1.        , 1.        , 1.        , 1.        , 1.        ,\n",
       "        1.        , 1.        , 1.        , 1.        , 1.        ,\n",
       "        1.        , 1.        , 1.        , 1.        , 1.        ,\n",
       "        1.        , 1.        , 1.        , 1.        , 1.        ,\n",
       "        1.        , 1.        , 1.        , 1.        , 1.        ,\n",
       "        1.        , 1.        , 1.        , 1.        , 1.        ,\n",
       "        1.        , 1.        , 1.        , 1.        , 1.        ,\n",
       "        1.        , 1.        , 1.        , 1.        , 1.        ,\n",
       "        1.        , 1.        , 1.        , 1.        , 1.        ,\n",
       "        1.        , 1.        , 1.        , 1.        , 1.        ,\n",
       "        1.        , 1.        , 1.        , 1.        , 1.        ,\n",
       "        1.        , 1.        , 1.        , 1.        , 1.        ,\n",
       "        1.        , 1.        , 1.        , 1.        , 1.        ,\n",
       "        1.        , 1.        , 1.        , 1.        , 1.        ,\n",
       "        1.        , 1.        , 1.        , 1.        , 1.        ,\n",
       "        1.        , 1.        , 1.        , 1.        , 1.        ,\n",
       "        1.        , 1.        , 1.        , 1.        , 1.        ,\n",
       "        1.        , 1.        , 1.        , 1.        , 1.        ,\n",
       "        1.        , 1.        , 1.        , 1.        , 1.        ,\n",
       "        1.        , 1.        , 1.        , 1.        , 1.        ,\n",
       "        1.        , 1.        , 1.        , 1.        , 1.        ,\n",
       "        1.        , 1.        , 1.        , 1.        , 1.        ,\n",
       "        1.        , 1.        , 1.        , 1.        , 1.        ,\n",
       "        1.        , 1.        , 1.        , 1.        , 1.        ,\n",
       "        1.        , 1.        , 1.        , 1.        , 1.        ,\n",
       "        1.        , 1.        , 1.        , 1.        , 1.        ,\n",
       "        1.        , 1.        , 1.        , 1.        , 1.        ,\n",
       "        1.        , 1.        , 1.        , 1.        , 1.        ,\n",
       "        1.        , 1.        , 1.        , 1.        , 1.        ,\n",
       "        1.        , 1.        , 1.        , 1.        , 1.        ,\n",
       "        1.        , 1.        , 0.98823529, 0.92941176, 0.92941176,\n",
       "        0.92941176, 0.50588235, 0.46666667, 0.31372549, 0.89803922,\n",
       "        0.34901961, 0.        , 0.03137255, 0.50196078, 1.        ,\n",
       "        1.        , 1.        , 1.        , 1.        , 1.        ,\n",
       "        1.        , 1.        , 1.        , 1.        , 1.        ,\n",
       "        1.        , 0.88235294, 0.85882353, 0.63137255, 0.39607843,\n",
       "        0.33333333, 0.00784314, 0.00784314, 0.00784314, 0.00784314,\n",
       "        0.00784314, 0.11764706, 0.3254902 , 0.00784314, 0.05098039,\n",
       "        0.23529412, 0.74901961, 1.        , 1.        , 1.        ,\n",
       "        1.        , 1.        , 1.        , 1.        , 1.        ,\n",
       "        1.        , 1.        , 1.        , 0.80784314, 0.06666667,\n",
       "        0.00784314, 0.00784314, 0.00784314, 0.00784314, 0.00784314,\n",
       "        0.00784314, 0.00784314, 0.00784314, 0.01568627, 0.63529412,\n",
       "        0.67843137, 0.67843137, 0.78039216, 0.84705882, 1.        ,\n",
       "        1.        , 1.        , 1.        , 1.        , 1.        ,\n",
       "        1.        , 1.        , 1.        , 1.        , 1.        ,\n",
       "        1.        , 0.92941176, 0.14117647, 0.00784314, 0.00784314,\n",
       "        0.00784314, 0.00784314, 0.00784314, 0.22352941, 0.28627451,\n",
       "        0.03137255, 0.05490196, 1.        , 1.        , 1.        ,\n",
       "        1.        , 1.        , 1.        , 1.        , 1.        ,\n",
       "        1.        , 1.        , 1.        , 1.        , 1.        ,\n",
       "        1.        , 1.        , 1.        , 1.        , 1.        ,\n",
       "        0.68627451, 0.38823529, 0.58039216, 0.00784314, 0.00784314,\n",
       "        0.19607843, 0.95686275, 1.        , 0.83137255, 0.39607843,\n",
       "        1.        , 1.        , 1.        , 1.        , 1.        ,\n",
       "        1.        , 1.        , 1.        , 1.        , 1.        ,\n",
       "        1.        , 1.        , 1.        , 1.        , 1.        ,\n",
       "        1.        , 1.        , 1.        , 1.        , 0.94509804,\n",
       "        0.99607843, 0.39607843, 0.00784314, 0.64705882, 1.        ,\n",
       "        1.        , 1.        , 1.        , 1.        , 1.        ,\n",
       "        1.        , 1.        , 1.        , 1.        , 1.        ,\n",
       "        1.        , 1.        , 1.        , 1.        , 1.        ,\n",
       "        1.        , 1.        , 1.        , 1.        , 1.        ,\n",
       "        1.        , 1.        , 1.        , 1.        , 0.45490196,\n",
       "        0.00784314, 0.25490196, 0.99215686, 1.        , 1.        ,\n",
       "        1.        , 1.        , 1.        , 1.        , 1.        ,\n",
       "        1.        , 1.        , 1.        , 1.        , 1.        ,\n",
       "        1.        , 1.        , 1.        , 1.        , 1.        ,\n",
       "        1.        , 1.        , 1.        , 1.        , 1.        ,\n",
       "        1.        , 1.        , 0.95686275, 0.25490196, 0.00784314,\n",
       "        0.7254902 , 1.        , 1.        , 1.        , 1.        ,\n",
       "        1.        , 1.        , 1.        , 1.        , 1.        ,\n",
       "        1.        , 1.        , 1.        , 1.        , 1.        ,\n",
       "        1.        , 1.        , 1.        , 1.        , 1.        ,\n",
       "        1.        , 1.        , 1.        , 1.        , 1.        ,\n",
       "        1.        , 0.8627451 , 0.05490196, 0.11764706, 0.37254902,\n",
       "        0.57647059, 0.99607843, 1.        , 1.        , 1.        ,\n",
       "        1.        , 1.        , 1.        , 1.        , 1.        ,\n",
       "        1.        , 1.        , 1.        , 1.        , 1.        ,\n",
       "        1.        , 1.        , 1.        , 1.        , 1.        ,\n",
       "        1.        , 1.        , 1.        , 1.        , 1.        ,\n",
       "        0.68235294, 0.05882353, 0.00784314, 0.00784314, 0.53333333,\n",
       "        0.90196078, 1.        , 1.        , 1.        , 1.        ,\n",
       "        1.        , 1.        , 1.        , 1.        , 1.        ,\n",
       "        1.        , 1.        , 1.        , 1.        , 1.        ,\n",
       "        1.        , 1.        , 1.        , 1.        , 1.        ,\n",
       "        1.        , 1.        , 1.        , 1.        , 0.82352941,\n",
       "        0.27058824, 0.00784314, 0.00784314, 0.41176471, 0.89411765,\n",
       "        1.        , 1.        , 1.        , 1.        , 1.        ,\n",
       "        1.        , 1.        , 1.        , 1.        , 1.        ,\n",
       "        1.        , 1.        , 1.        , 1.        , 1.        ,\n",
       "        1.        , 1.        , 1.        , 1.        , 1.        ,\n",
       "        1.        , 1.        , 1.        , 0.9372549 , 0.63529412,\n",
       "        0.01176471, 0.00784314, 0.26666667, 1.        , 1.        ,\n",
       "        1.        , 1.        , 1.        , 1.        , 1.        ,\n",
       "        1.        , 1.        , 1.        , 1.        , 1.        ,\n",
       "        1.        , 1.        , 1.        , 1.        , 1.        ,\n",
       "        1.        , 1.        , 1.        , 1.        , 1.        ,\n",
       "        1.        , 1.        , 1.        , 0.02352941, 0.00784314,\n",
       "        0.02352941, 0.74901961, 1.        , 1.        , 1.        ,\n",
       "        1.        , 1.        , 1.        , 1.        , 1.        ,\n",
       "        1.        , 1.        , 1.        , 1.        , 1.        ,\n",
       "        1.        , 1.        , 1.        , 1.        , 1.        ,\n",
       "        1.        , 1.        , 1.        , 0.81960784, 0.49019608,\n",
       "        0.28235294, 0.00784314, 0.00784314, 0.18823529, 0.99215686,\n",
       "        1.        , 1.        , 1.        , 1.        , 1.        ,\n",
       "        1.        , 1.        , 1.        , 1.        , 1.        ,\n",
       "        1.        , 1.        , 1.        , 1.        , 1.        ,\n",
       "        1.        , 1.        , 1.        , 1.        , 0.84705882,\n",
       "        0.41960784, 0.10196078, 0.00784314, 0.00784314, 0.00784314,\n",
       "        0.01960784, 0.28627451, 1.        , 1.        , 1.        ,\n",
       "        1.        , 1.        , 1.        , 1.        , 1.        ,\n",
       "        1.        , 1.        , 1.        , 1.        , 1.        ,\n",
       "        1.        , 1.        , 1.        , 1.        , 1.        ,\n",
       "        0.90588235, 0.55294118, 0.13333333, 0.00784314, 0.00784314,\n",
       "        0.00784314, 0.00784314, 0.21176471, 0.69411765, 1.        ,\n",
       "        1.        , 1.        , 1.        , 1.        , 1.        ,\n",
       "        1.        , 1.        , 1.        , 1.        , 1.        ,\n",
       "        1.        , 1.        , 1.        , 1.        , 1.        ,\n",
       "        1.        , 0.90980392, 0.74117647, 0.16470588, 0.00784314,\n",
       "        0.00784314, 0.00784314, 0.00784314, 0.22352941, 0.68235294,\n",
       "        0.99215686, 1.        , 1.        , 1.        , 1.        ,\n",
       "        1.        , 1.        , 1.        , 1.        , 1.        ,\n",
       "        1.        , 1.        , 1.        , 1.        , 1.        ,\n",
       "        1.        , 1.        , 0.92941176, 0.32941176, 0.14117647,\n",
       "        0.00784314, 0.00784314, 0.00784314, 0.00784314, 0.23529412,\n",
       "        0.68627451, 0.96470588, 1.        , 1.        , 1.        ,\n",
       "        1.        , 1.        , 1.        , 1.        , 1.        ,\n",
       "        1.        , 1.        , 1.        , 1.        , 1.        ,\n",
       "        1.        , 1.        , 1.        , 0.78431373, 0.3254902 ,\n",
       "        0.11372549, 0.00784314, 0.00784314, 0.00784314, 0.00784314,\n",
       "        0.04313725, 0.47843137, 0.95686275, 1.        , 1.        ,\n",
       "        1.        , 1.        , 1.        , 1.        , 1.        ,\n",
       "        1.        , 1.        , 1.        , 1.        , 1.        ,\n",
       "        1.        , 1.        , 1.        , 1.        , 1.        ,\n",
       "        1.        , 0.46666667, 0.00784314, 0.00784314, 0.00784314,\n",
       "        0.16862745, 0.47058824, 0.48235294, 0.9372549 , 1.        ,\n",
       "        1.        , 1.        , 1.        , 1.        , 1.        ,\n",
       "        1.        , 1.        , 1.        , 1.        , 1.        ,\n",
       "        1.        , 1.        , 1.        , 1.        , 1.        ,\n",
       "        1.        , 1.        , 1.        , 1.        , 1.        ,\n",
       "        1.        , 1.        , 1.        , 1.        , 1.        ,\n",
       "        1.        , 1.        , 1.        , 1.        , 1.        ,\n",
       "        1.        , 1.        , 1.        , 1.        , 1.        ,\n",
       "        1.        , 1.        , 1.        , 1.        , 1.        ,\n",
       "        1.        , 1.        , 1.        , 1.        , 1.        ,\n",
       "        1.        , 1.        , 1.        , 1.        , 1.        ,\n",
       "        1.        , 1.        , 1.        , 1.        , 1.        ,\n",
       "        1.        , 1.        , 1.        , 1.        , 1.        ,\n",
       "        1.        , 1.        , 1.        , 1.        , 1.        ,\n",
       "        1.        , 1.        , 1.        , 1.        , 1.        ,\n",
       "        1.        , 1.        , 1.        , 1.        , 1.        ,\n",
       "        1.        , 1.        , 1.        , 1.        , 1.        ,\n",
       "        1.        , 1.        , 1.        , 1.        , 1.        ,\n",
       "        1.        , 1.        , 1.        , 1.        , 1.        ,\n",
       "        1.        , 1.        , 1.        , 1.        , 1.        ,\n",
       "        1.        , 1.        , 1.        , 1.        ]])"
      ]
     },
     "execution_count": 8,
     "metadata": {},
     "output_type": "execute_result"
    }
   ],
   "source": [
    "# Flatten the array so the inputs can be mapped to the input neurons\n",
    "inputs = train_img.reshape(60000, 784)\n",
    "inputs[0:1]"
   ]
  },
  {
   "cell_type": "markdown",
   "metadata": {},
   "source": [
    "## Encoding the data\n",
    "The label data is encoded into a matrix of 10 x 10 this will represent the digits in binary format.\n",
    "Firstly we to setup the matrix using the labelBinerizer function.<br/>\n",
    "The fit function passes the training labels as an argument. AS the set of labels are from zero - nine the (encoder.fit) function generates a matrix based on these values. In this case it will be a 10 x 10 matrix.\n"
   ]
  },
  {
   "cell_type": "code",
   "execution_count": 9,
   "metadata": {},
   "outputs": [
    {
     "data": {
      "text/plain": [
       "LabelBinarizer(neg_label=0, pos_label=1, sparse_output=False)"
      ]
     },
     "execution_count": 9,
     "metadata": {},
     "output_type": "execute_result"
    }
   ],
   "source": [
    "# encode the labels into binary format\n",
    "encoder = pre.LabelBinarizer()\n",
    "# get the size of the array needed for each category\n",
    "encoder.fit(train_lbl)"
   ]
  },
  {
   "cell_type": "markdown",
   "metadata": {},
   "source": [
    "## Transforming the labels\n",
    "The labels are then transformed to a binary value based on the decimal value of the label.</br>\n",
    "With each number being transformed to the following:\n",
    "* (0) 1000000000\n",
    "* (1) 0100000000\n",
    "* (3) 0010000000 \n",
    "\n",
    "And so on until we reach the number nine which is 0000000001.<br/>\n",
    "\n",
    "\n",
    "In the below example the number five has the representation of '0 0 0 0 0 1 0 0 0 0'\n"
   ]
  },
  {
   "cell_type": "code",
   "execution_count": 10,
   "metadata": {},
   "outputs": [
    {
     "name": "stdout",
     "output_type": "stream",
     "text": [
      "5 [0 0 0 0 0 1 0 0 0 0]\n"
     ]
    }
   ],
   "source": [
    "# encode each label to be used as binary outputs\n",
    "outputs = encoder.transform(train_lbl)\n",
    "# print out the integer value and the new representation of the number\n",
    "print(train_lbl[0], outputs[0])"
   ]
  },
  {
   "cell_type": "markdown",
   "metadata": {},
   "source": [
    "### Full example\n",
    "Below is a full view of the matrix."
   ]
  },
  {
   "cell_type": "code",
   "execution_count": 11,
   "metadata": {},
   "outputs": [
    {
     "name": "stdout",
     "output_type": "stream",
     "text": [
      "0 [[1 0 0 0 0 0 0 0 0 0]]\n",
      "1 [[0 1 0 0 0 0 0 0 0 0]]\n",
      "2 [[0 0 1 0 0 0 0 0 0 0]]\n",
      "3 [[0 0 0 1 0 0 0 0 0 0]]\n",
      "4 [[0 0 0 0 1 0 0 0 0 0]]\n",
      "5 [[0 0 0 0 0 1 0 0 0 0]]\n",
      "6 [[0 0 0 0 0 0 1 0 0 0]]\n",
      "7 [[0 0 0 0 0 0 0 1 0 0]]\n",
      "8 [[0 0 0 0 0 0 0 0 1 0]]\n",
      "9 [[0 0 0 0 0 0 0 0 0 1]]\n"
     ]
    }
   ],
   "source": [
    "# print out each array\n",
    "for i in range(10):\n",
    "    print(i, encoder.transform([i]))"
   ]
  },
  {
   "cell_type": "markdown",
   "metadata": {},
   "source": [
    "## Training the model\n",
    "We are now ready to begin training the network to recognise the images.</br>\n",
    "The training set of 60000 images are used and passed to the networks first layer of 784 neurons.<br/>\n",
    "Model parameters:\n",
    "1. The encoded training images are sent as input\n",
    "2. The encoded training labels are attached as the expected output\n",
    "3. Epochs is the amount of times the 60000 images will be processed \n",
    "4. The batch size sets the amount of images that will be sent to the network as one unit\n",
    "\n"
   ]
  },
  {
   "cell_type": "code",
   "execution_count": 12,
   "metadata": {
    "scrolled": true
   },
   "outputs": [
    {
     "name": "stdout",
     "output_type": "stream",
     "text": [
      "Epoch 1/20\n",
      "60000/60000 [==============================] - 17s 280us/step - loss: 0.8875 - acc: 0.78161s\n",
      "Epoch 2/20\n",
      "60000/60000 [==============================] - 15s 245us/step - loss: 0.4641 - acc: 0.87580s - loss: 0.4653 - acc:\n",
      "Epoch 3/20\n",
      "60000/60000 [==============================] - 15s 250us/step - loss: 0.3956 - acc: 0.8899\n",
      "Epoch 4/20\n",
      "60000/60000 [==============================] - 15s 247us/step - loss: 0.3621 - acc: 0.8968\n",
      "Epoch 5/20\n",
      "60000/60000 [==============================] - 15s 255us/step - loss: 0.3421 - acc: 0.9020\n",
      "Epoch 6/20\n",
      "60000/60000 [==============================] - 15s 251us/step - loss: 0.3275 - acc: 0.90640s - loss: 0.3279 - acc: 0.906\n",
      "Epoch 7/20\n",
      "60000/60000 [==============================] - 15s 257us/step - loss: 0.3155 - acc: 0.9094\n",
      "Epoch 8/20\n",
      "60000/60000 [==============================] - 15s 256us/step - loss: 0.3060 - acc: 0.9118\n",
      "Epoch 9/20\n",
      "60000/60000 [==============================] - 16s 261us/step - loss: 0.2966 - acc: 0.9143\n",
      "Epoch 10/20\n",
      "60000/60000 [==============================] - 15s 249us/step - loss: 0.2883 - acc: 0.9176\n",
      "Epoch 11/20\n",
      "60000/60000 [==============================] - 15s 255us/step - loss: 0.2798 - acc: 0.9204\n",
      "Epoch 12/20\n",
      "60000/60000 [==============================] - 15s 245us/step - loss: 0.2736 - acc: 0.9223\n",
      "Epoch 13/20\n",
      "60000/60000 [==============================] - 15s 245us/step - loss: 0.2666 - acc: 0.9243\n",
      "Epoch 14/20\n",
      "60000/60000 [==============================] - 15s 249us/step - loss: 0.2601 - acc: 0.92601s - loss: 0\n",
      "Epoch 15/20\n",
      "60000/60000 [==============================] - 15s 257us/step - loss: 0.2539 - acc: 0.9280\n",
      "Epoch 16/20\n",
      "60000/60000 [==============================] - 16s 268us/step - loss: 0.2477 - acc: 0.9306\n",
      "Epoch 17/20\n",
      "60000/60000 [==============================] - 16s 268us/step - loss: 0.2418 - acc: 0.9312\n",
      "Epoch 18/20\n",
      "60000/60000 [==============================] - 16s 261us/step - loss: 0.2357 - acc: 0.9339\n",
      "Epoch 19/20\n",
      "60000/60000 [==============================] - 16s 273us/step - loss: 0.2299 - acc: 0.9357\n",
      "Epoch 20/20\n",
      "60000/60000 [==============================] - 16s 261us/step - loss: 0.2239 - acc: 0.9369\n"
     ]
    },
    {
     "data": {
      "text/plain": [
       "<keras.callbacks.History at 0x22452d4d908>"
      ]
     },
     "execution_count": 12,
     "metadata": {},
     "output_type": "execute_result"
    }
   ],
   "source": [
    "# Start the training\n",
    "# Set the model up by adding the input and output layers to the network\n",
    "#The epochs value is the amount of test runs are needed\n",
    "# The batch_size value is the amount of images sent at one time to the network\n",
    "model.fit(inputs, outputs, epochs=20, batch_size=100)"
   ]
  },
  {
   "cell_type": "markdown",
   "metadata": {},
   "source": [
    "## Results of the training\n",
    "\n",
    "The above result shows that the network is getting approx 93.6% of the images correct for the training set after 20 runs of the test.<br/>\n",
    "As we can see with each epoch the performance is slightly increasing and the loss is converging towards zero (The optimal value).\n",
    "\n",
    "Below we will try for a further 10 epochs to see if the performance increases. Please note that the previous cell needs to have run first so the learning data can be carried over rerun all cells to be certain.\n",
    "\n"
   ]
  },
  {
   "cell_type": "code",
   "execution_count": 13,
   "metadata": {},
   "outputs": [
    {
     "name": "stdout",
     "output_type": "stream",
     "text": [
      "Epoch 1/10\n",
      "60000/60000 [==============================] - 16s 273us/step - loss: 0.2190 - acc: 0.9383\n",
      "Epoch 2/10\n",
      "60000/60000 [==============================] - 15s 254us/step - loss: 0.2141 - acc: 0.9406\n",
      "Epoch 3/10\n",
      "60000/60000 [==============================] - 15s 253us/step - loss: 0.2093 - acc: 0.9412\n",
      "Epoch 4/10\n",
      "60000/60000 [==============================] - 15s 254us/step - loss: 0.2042 - acc: 0.9434\n",
      "Epoch 5/10\n",
      "60000/60000 [==============================] - 15s 257us/step - loss: 0.2002 - acc: 0.9439\n",
      "Epoch 6/10\n",
      "60000/60000 [==============================] - 15s 255us/step - loss: 0.1955 - acc: 0.9452\n",
      "Epoch 7/10\n",
      "60000/60000 [==============================] - 15s 253us/step - loss: 0.1905 - acc: 0.94680s - loss: 0.1908 - acc:\n",
      "Epoch 8/10\n",
      "60000/60000 [==============================] - 16s 262us/step - loss: 0.1869 - acc: 0.9483\n",
      "Epoch 9/10\n",
      "60000/60000 [==============================] - 16s 261us/step - loss: 0.1825 - acc: 0.9492\n",
      "Epoch 10/10\n",
      "60000/60000 [==============================] - 14s 238us/step - loss: 0.1785 - acc: 0.9504\n"
     ]
    },
    {
     "data": {
      "text/plain": [
       "<keras.callbacks.History at 0x22452c8d048>"
      ]
     },
     "execution_count": 13,
     "metadata": {},
     "output_type": "execute_result"
    }
   ],
   "source": [
    "# Start the training\n",
    "# Set the model up by adding the input and output layers to the network\n",
    "#The epochs value is the amount of test runs are needed\n",
    "# The batch_size value is the amount of images sent at one time to the network\n",
    "model.fit(inputs, outputs, epochs=10, batch_size=100)"
   ]
  },
  {
   "cell_type": "markdown",
   "metadata": {},
   "source": [
    "## Result\n",
    "\n",
    "As we can see there has been an increase of almost 1.5% in performance. We will now try a further 20 epochs to see if it will further increase the accuracy.\n"
   ]
  },
  {
   "cell_type": "code",
   "execution_count": 14,
   "metadata": {},
   "outputs": [
    {
     "name": "stdout",
     "output_type": "stream",
     "text": [
      "Epoch 1/20\n",
      "60000/60000 [==============================] - 15s 242us/step - loss: 0.1750 - acc: 0.9511\n",
      "Epoch 2/20\n",
      "60000/60000 [==============================] - 14s 231us/step - loss: 0.1713 - acc: 0.9528\n",
      "Epoch 3/20\n",
      "60000/60000 [==============================] - 14s 236us/step - loss: 0.1677 - acc: 0.9536\n",
      "Epoch 4/20\n",
      "60000/60000 [==============================] - 15s 251us/step - loss: 0.1644 - acc: 0.9543\n",
      "Epoch 5/20\n",
      "60000/60000 [==============================] - 15s 247us/step - loss: 0.1612 - acc: 0.9551\n",
      "Epoch 6/20\n",
      "60000/60000 [==============================] - 15s 242us/step - loss: 0.1581 - acc: 0.9562\n",
      "Epoch 7/20\n",
      "60000/60000 [==============================] - 14s 240us/step - loss: 0.1549 - acc: 0.9571\n",
      "Epoch 8/20\n",
      "60000/60000 [==============================] - 14s 240us/step - loss: 0.1517 - acc: 0.9582\n",
      "Epoch 9/20\n",
      "60000/60000 [==============================] - 14s 240us/step - loss: 0.1497 - acc: 0.9588\n",
      "Epoch 10/20\n",
      "60000/60000 [==============================] - 15s 244us/step - loss: 0.1465 - acc: 0.9593\n",
      "Epoch 11/20\n",
      "60000/60000 [==============================] - 15s 251us/step - loss: 0.1438 - acc: 0.9604\n",
      "Epoch 12/20\n",
      "60000/60000 [==============================] - 15s 255us/step - loss: 0.1414 - acc: 0.9607\n",
      "Epoch 13/20\n",
      "60000/60000 [==============================] - 14s 232us/step - loss: 0.1387 - acc: 0.9619\n",
      "Epoch 14/20\n",
      "60000/60000 [==============================] - 14s 240us/step - loss: 0.1362 - acc: 0.9627\n",
      "Epoch 15/20\n",
      "60000/60000 [==============================] - 15s 256us/step - loss: 0.1340 - acc: 0.9634\n",
      "Epoch 16/20\n",
      "60000/60000 [==============================] - 15s 257us/step - loss: 0.1318 - acc: 0.9634\n",
      "Epoch 17/20\n",
      "60000/60000 [==============================] - 15s 256us/step - loss: 0.1298 - acc: 0.9645\n",
      "Epoch 18/20\n",
      "60000/60000 [==============================] - 15s 254us/step - loss: 0.1275 - acc: 0.9651\n",
      "Epoch 19/20\n",
      "60000/60000 [==============================] - 15s 251us/step - loss: 0.1252 - acc: 0.9653\n",
      "Epoch 20/20\n",
      "60000/60000 [==============================] - 16s 270us/step - loss: 0.1236 - acc: 0.9664\n"
     ]
    },
    {
     "data": {
      "text/plain": [
       "<keras.callbacks.History at 0x22452d4d828>"
      ]
     },
     "execution_count": 14,
     "metadata": {},
     "output_type": "execute_result"
    }
   ],
   "source": [
    "# Start the training\n",
    "# Set the model up by adding the input and output layers to the network\n",
    "#The epochs value is the amount of test runs are needed\n",
    "# The batch_size value is the amount of images sent at one time to the network\n",
    "model.fit(inputs, outputs, epochs=20, batch_size=100)"
   ]
  },
  {
   "cell_type": "markdown",
   "metadata": {},
   "source": [
    "## Result\n",
    "By running a further 20 epochs we have got a result of approx 96.5% a further increase of 1.5% accuracy.<br/>\n",
    "This indicates that the more epochs are run with these parameters set we could get to an accuracy of 98% if enough tests were run.<br/>\n",
    "For the purpose of testing the network with the test images this level of accuracy will suffice.\n"
   ]
  },
  {
   "cell_type": "markdown",
   "metadata": {},
   "source": [
    "## Testing the network with test images\n",
    "\n",
    "The test images and labels are unzipped and stored in memory using the same methods as the training images and labels.<br/>\n",
    "\n",
    "A single image can then be sent to the network to see if it is identifying the number correctly.\n"
   ]
  },
  {
   "cell_type": "code",
   "execution_count": 15,
   "metadata": {},
   "outputs": [],
   "source": [
    "# open the gzipped test images and labels\n",
    "with gzip.open('data/t10k-images-idx3-ubyte.gz', 'rb') as f:\n",
    "    test_img = f.read()\n",
    "\n",
    "with gzip.open('data/t10k-labels-idx1-ubyte.gz', 'rb') as f:\n",
    "    test_lbl = f.read()\n",
    "\n",
    "# Store each image and label into memory\n",
    "test_img = ~np.array(list(test_img[16:])).reshape(10000, 784).astype(np.uint8) / 255.0\n",
    "test_lbl =  np.array(list(test_lbl[ 8:])).astype(np.uint8)"
   ]
  },
  {
   "cell_type": "markdown",
   "metadata": {},
   "source": [
    "## Show the performance results\n",
    "\n",
    "The below result shows that 9622 images have been identified correctly this matches the final accuracy of the training output."
   ]
  },
  {
   "cell_type": "code",
   "execution_count": 16,
   "metadata": {},
   "outputs": [
    {
     "data": {
      "text/plain": [
       "9622"
      ]
     },
     "execution_count": 16,
     "metadata": {},
     "output_type": "execute_result"
    }
   ],
   "source": [
    "# Show the total number of correct images identified out of 10000 test images\n",
    "(encoder.inverse_transform(model.predict(test_img)) == test_lbl).sum()"
   ]
  },
  {
   "cell_type": "markdown",
   "metadata": {},
   "source": [
    "## Passing an image to the network\n",
    "In the below example the 128th image in the dataset is passed to the network for identification.<br/>\n",
    "The result is then printed out for us to examine as an array.<br/>\n",
    "The index with the highest value within this array represents the number that has been picked by the network.<br/>\n",
    "In this case the number identified by the network is eight as the ninth position in the array is the highest value.\n",
    "\n"
   ]
  },
  {
   "cell_type": "code",
   "execution_count": 17,
   "metadata": {},
   "outputs": [
    {
     "name": "stdout",
     "output_type": "stream",
     "text": [
      "[[7.7011225e-07 2.8283930e-07 1.2899119e-04 3.1284147e-03 4.0528944e-06\n",
      "  2.1652140e-04 1.4169835e-07 7.7335981e-06 9.9639517e-01 1.1795169e-04]]\n"
     ]
    }
   ],
   "source": [
    "test = model.predict(test_img[128:129])\n",
    "# Print the\n",
    "print(test)"
   ]
  },
  {
   "cell_type": "markdown",
   "metadata": {},
   "source": [
    "## Printing out the results.\n",
    "\n",
    "We can get the array index with the highest value by using the argmax function.<br/>\n",
    "This will return the index of the array with the highest value in this case it is eight.<br/>\n",
    "Additionally the label for the image can be accessed using the same index as used for the test image."
   ]
  },
  {
   "cell_type": "code",
   "execution_count": 18,
   "metadata": {},
   "outputs": [
    {
     "name": "stdout",
     "output_type": "stream",
     "text": [
      "The machine prediction is : =>>  [8]\n",
      "The actual number is : =>>  [8]\n"
     ]
    }
   ],
   "source": [
    "# Get the maximum value from the machine predictions\n",
    "pred_result = test.argmax(axis=1)\n",
    "\n",
    "print(\"The machine prediction is : =>> \",  pred_result)\n",
    "print(\"The actual number is : =>> \", test_lbl[128:129])"
   ]
  },
  {
   "cell_type": "markdown",
   "metadata": {},
   "source": [
    "## Testing some more images \n",
    "\n",
    "Below we will test twenty more images selected at random to see if the network is performing as expected."
   ]
  },
  {
   "cell_type": "code",
   "execution_count": 19,
   "metadata": {},
   "outputs": [
    {
     "name": "stdout",
     "output_type": "stream",
     "text": [
      "Test Number :  1 \n",
      "\n",
      "The random index:  9585 \n",
      "\n",
      "The result array: \n",
      "[[9.9914372e-01 2.0904394e-09 5.7525869e-04 2.0829431e-05 8.3112656e-07\n",
      "  4.2966708e-06 5.6888615e-07 4.2362924e-05 1.7303921e-06 2.1024706e-04]] \n",
      "\n",
      "The machine prediction is : =>>  [0]\n",
      "The actual number is : =>>  [0]\n",
      "##############################################\n",
      "Test Number :  2 \n",
      "\n",
      "The random index:  3455 \n",
      "\n",
      "The result array: \n",
      "[[7.5665518e-09 9.9746394e-01 1.1411760e-04 1.1792567e-03 3.8292470e-05\n",
      "  1.9217863e-05 1.6589125e-05 3.6634746e-04 6.1073987e-04 1.9149524e-04]] \n",
      "\n",
      "The machine prediction is : =>>  [1]\n",
      "The actual number is : =>>  [1]\n",
      "##############################################\n",
      "Test Number :  3 \n",
      "\n",
      "The random index:  6709 \n",
      "\n",
      "The result array: \n",
      "[[1.7422532e-04 1.1418350e-06 5.2828265e-05 5.7321080e-07 5.2959567e-05\n",
      "  3.7038210e-03 1.6073321e-04 1.6202266e-07 9.9534059e-01 5.1296729e-04]] \n",
      "\n",
      "The machine prediction is : =>>  [8]\n",
      "The actual number is : =>>  [8]\n",
      "##############################################\n",
      "Test Number :  4 \n",
      "\n",
      "The random index:  9291 \n",
      "\n",
      "The result array: \n",
      "[[1.7200662e-07 9.9566674e-01 7.9522061e-04 6.1639969e-04 4.8912450e-05\n",
      "  1.5010651e-04 1.9700310e-04 1.1940317e-03 1.1288322e-03 2.0252391e-04]] \n",
      "\n",
      "The machine prediction is : =>>  [1]\n",
      "The actual number is : =>>  [1]\n",
      "##############################################\n",
      "Test Number :  5 \n",
      "\n",
      "The random index:  2645 \n",
      "\n",
      "The result array: \n",
      "[[3.7323000e-05 6.2162590e-06 4.7761819e-04 1.9575967e-03 9.1386223e-01\n",
      "  8.1074303e-03 3.9609382e-04 1.6872989e-02 4.4447957e-03 5.3837832e-02]] \n",
      "\n",
      "The machine prediction is : =>>  [4]\n",
      "The actual number is : =>>  [4]\n",
      "##############################################\n",
      "Test Number :  6 \n",
      "\n",
      "The random index:  5040 \n",
      "\n",
      "The result array: \n",
      "[[1.06074676e-05 5.77095743e-05 8.23501250e-06 7.83193245e-05\n",
      "  4.00941004e-04 1.04195424e-04 7.26957694e-08 9.86434817e-01\n",
      "  9.31330651e-05 1.28120342e-02]] \n",
      "\n",
      "The machine prediction is : =>>  [7]\n",
      "The actual number is : =>>  [7]\n",
      "##############################################\n",
      "Test Number :  7 \n",
      "\n",
      "The random index:  149 \n",
      "\n",
      "The result array: \n",
      "[[2.0897169e-04 8.1409579e-03 2.5795415e-01 2.9939936e-02 2.8080836e-01\n",
      "  5.7416156e-02 1.6075660e-02 9.4867311e-03 2.9073831e-02 3.1089529e-01]] \n",
      "\n",
      "The machine prediction is : =>>  [9]\n",
      "The actual number is : =>>  [2]\n",
      "##############################################\n",
      "Test Number :  8 \n",
      "\n",
      "The random index:  8823 \n",
      "\n",
      "The result array: \n",
      "[[1.8006838e-03 5.2207495e-05 1.3613745e-03 1.5142056e-05 2.1442215e-04\n",
      "  9.9165350e-01 1.5080369e-04 1.4459630e-04 4.5781429e-03 2.9201692e-05]] \n",
      "\n",
      "The machine prediction is : =>>  [5]\n",
      "The actual number is : =>>  [5]\n",
      "##############################################\n",
      "Test Number :  9 \n",
      "\n",
      "The random index:  7447 \n",
      "\n",
      "The result array: \n",
      "[[1.52348206e-04 9.11553919e-01 3.34834233e-02 2.94955284e-03\n",
      "  7.84012768e-03 1.95354898e-03 1.38222123e-03 1.04937665e-02\n",
      "  3.00296284e-02 1.61482734e-04]] \n",
      "\n",
      "The machine prediction is : =>>  [1]\n",
      "The actual number is : =>>  [1]\n",
      "##############################################\n",
      "Test Number :  10 \n",
      "\n",
      "The random index:  8802 \n",
      "\n",
      "The result array: \n",
      "[[8.2284459e-05 2.7731567e-10 6.9541231e-05 8.6815932e-09 9.9929118e-01\n",
      "  9.5986377e-07 2.8472801e-04 1.4466708e-04 7.5204439e-06 1.1909175e-04]] \n",
      "\n",
      "The machine prediction is : =>>  [4]\n",
      "The actual number is : =>>  [4]\n",
      "##############################################\n",
      "Test Number :  11 \n",
      "\n",
      "The random index:  6186 \n",
      "\n",
      "The result array: \n",
      "[[3.2315535e-07 2.4194620e-08 1.0149055e-08 1.4171576e-06 2.3354973e-08\n",
      "  9.9960190e-01 1.0812709e-07 6.5562160e-11 3.9574137e-04 4.7544083e-07]] \n",
      "\n",
      "The machine prediction is : =>>  [5]\n",
      "The actual number is : =>>  [5]\n",
      "##############################################\n",
      "Test Number :  12 \n",
      "\n",
      "The random index:  6281 \n",
      "\n",
      "The result array: \n",
      "[[2.3938578e-06 3.6044642e-07 9.9955541e-01 3.7070949e-04 1.8275876e-05\n",
      "  1.0652576e-06 1.6602877e-06 3.2458976e-09 4.9252296e-05 9.0397674e-07]] \n",
      "\n",
      "The machine prediction is : =>>  [2]\n",
      "The actual number is : =>>  [2]\n",
      "##############################################\n",
      "Test Number :  13 \n",
      "\n",
      "The random index:  1862 \n",
      "\n",
      "The result array: \n",
      "[[1.9815311e-04 1.6736862e-04 2.5684172e-03 2.0372665e-03 9.5257705e-01\n",
      "  7.3169558e-03 7.5539702e-04 7.8077046e-03 1.2049052e-03 2.5366684e-02]] \n",
      "\n",
      "The machine prediction is : =>>  [4]\n",
      "The actual number is : =>>  [4]\n",
      "##############################################\n",
      "Test Number :  14 \n",
      "\n",
      "The random index:  4081 \n",
      "\n",
      "The result array: \n",
      "[[5.9959623e-03 3.7568191e-06 2.3794933e-03 2.3504149e-04 1.0207775e-04\n",
      "  2.6341719e-03 9.8698354e-01 7.1219517e-08 1.6614274e-03 4.3440982e-06]] \n",
      "\n",
      "The machine prediction is : =>>  [6]\n",
      "The actual number is : =>>  [6]\n",
      "##############################################\n",
      "Test Number :  15 \n",
      "\n",
      "The random index:  1382 \n",
      "\n",
      "The result array: \n",
      "[[2.3231594e-05 3.0928199e-08 6.2907900e-05 1.5608658e-06 9.9517447e-01\n",
      "  4.9599148e-06 1.0309563e-04 8.7917893e-04 2.4364315e-05 3.7262086e-03]] \n",
      "\n",
      "The machine prediction is : =>>  [4]\n",
      "The actual number is : =>>  [4]\n",
      "##############################################\n",
      "Test Number :  16 \n",
      "\n",
      "The random index:  2856 \n",
      "\n",
      "The result array: \n",
      "[[7.1597819e-06 5.4406220e-05 1.0461611e-04 1.2159389e-03 9.6734805e-04\n",
      "  8.7744105e-05 7.9318552e-06 3.2554955e-05 9.9565083e-01 1.8714700e-03]] \n",
      "\n",
      "The machine prediction is : =>>  [8]\n",
      "The actual number is : =>>  [8]\n",
      "##############################################\n",
      "Test Number :  17 \n",
      "\n",
      "The random index:  3168 \n",
      "\n",
      "The result array: \n",
      "[[9.7429897e-08 1.0847423e-06 3.6371377e-05 8.7777077e-04 5.1803640e-03\n",
      "  1.3488253e-06 6.9054590e-07 4.2688189e-04 8.8089280e-04 9.9259454e-01]] \n",
      "\n",
      "The machine prediction is : =>>  [9]\n",
      "The actual number is : =>>  [9]\n",
      "##############################################\n",
      "Test Number :  18 \n",
      "\n",
      "The random index:  662 \n",
      "\n",
      "The result array: \n",
      "[[2.1665585e-07 2.0973177e-06 7.2883631e-06 1.6537959e-04 2.2549990e-03\n",
      "  6.4628955e-05 3.6043437e-07 3.0040054e-04 7.1312948e-05 9.9713326e-01]] \n",
      "\n",
      "The machine prediction is : =>>  [9]\n",
      "The actual number is : =>>  [9]\n",
      "##############################################\n",
      "Test Number :  19 \n",
      "\n",
      "The random index:  3103 \n",
      "\n",
      "The result array: \n",
      "[[2.8356717e-05 3.4890222e-04 5.3668121e-04 5.5859104e-04 2.1016158e-04\n",
      "  2.3493138e-03 9.5688597e-07 9.7584367e-01 3.9579638e-04 1.9727590e-02]] \n",
      "\n",
      "The machine prediction is : =>>  [7]\n",
      "The actual number is : =>>  [7]\n",
      "##############################################\n",
      "Test Number :  20 \n",
      "\n",
      "The random index:  5398 \n",
      "\n",
      "The result array: \n",
      "[[9.9647421e-01 2.1804132e-08 6.8660389e-04 1.2955895e-04 8.4653857e-06\n",
      "  1.9698075e-03 9.6129836e-05 1.7328133e-05 2.0624809e-04 4.1172846e-04]] \n",
      "\n",
      "The machine prediction is : =>>  [0]\n",
      "The actual number is : =>>  [0]\n",
      "##############################################\n"
     ]
    }
   ],
   "source": [
    "# Random int adapted from https://stackoverflow.com/questions/3996904/generate-random-integers-between-0-and-9\n",
    "from random import randint\n",
    "for i in range(20):\n",
    "    print(\"Test Number : \", i+1,\"\\n\")\n",
    "    x = randint(0, 9999)\n",
    "    print(\"The random index: \", x, \"\\n\")\n",
    "    print(\"The result array: \")\n",
    "    test = model.predict(test_img[x:x+1])\n",
    "    # Print the\n",
    "    print(test, \"\\n\")\n",
    "    # Get the maximum value from the machine predictions\n",
    "    pred_result = test.argmax(axis=1)\n",
    "\n",
    "    print(\"The machine prediction is : =>> \",  pred_result)\n",
    "    print(\"The actual number is : =>> \", test_lbl[x:x+1])\n",
    "    print(\"##############################################\")\n"
   ]
  },
  {
   "cell_type": "markdown",
   "metadata": {},
   "source": [
    "## Result\n",
    "The above output shows that the network has all of the numbers correct on this run.<br/>\n",
    "However as it has a 96.5% accuracy it will get 3.5 predictions wrong out of every 100 test images.\n"
   ]
  },
  {
   "cell_type": "code",
   "execution_count": null,
   "metadata": {},
   "outputs": [],
   "source": []
  }
 ],
 "metadata": {
  "kernelspec": {
   "display_name": "Python 3",
   "language": "python",
   "name": "python3"
  },
  "language_info": {
   "codemirror_mode": {
    "name": "ipython",
    "version": 3
   },
   "file_extension": ".py",
   "mimetype": "text/x-python",
   "name": "python",
   "nbconvert_exporter": "python",
   "pygments_lexer": "ipython3",
   "version": "3.6.5"
  }
 },
 "nbformat": 4,
 "nbformat_minor": 2
}
