{
 "cells": [
  {
   "cell_type": "markdown",
   "metadata": {},
   "source": [
    "# Digital recognition with the mnist dataset\n",
    "\n",
    "This notebook will investigate the classification and identification of hand written digits using a neural network.<br/>\n",
    "The mnist dataset will be first used to train the network and then test the networks performance in recognising a digit.<br/>\n",
    "Once training has been completed a single image from the dataset will be passed to the network and the result will be displayed to the screen along with the actual digit expected.<br/>\n"
   ]
  },
  {
   "cell_type": "markdown",
   "metadata": {},
   "source": [
    "## Packages needed for the program to run\n",
    "\n",
    "The following packages will need to be imported for creating the network and importing the images to memory:\n",
    "* The keras package used for creating the network\n",
    "* The gzip package used for unzipping the the dataset images and labels\n",
    "* The numpy package used for altering the dataset into numpy arrays\n",
    "* The sklearn preprocessing package used for classification and binary encoding each digit\n"
   ]
  },
  {
   "cell_type": "code",
   "execution_count": null,
   "metadata": {},
   "outputs": [],
   "source": [
    "# Importing the packages \n",
    "import keras as kr\n",
    "import numpy as np\n",
    "import sklearn.preprocessing as pre"
   ]
  },
  {
   "cell_type": "markdown",
   "metadata": {},
   "source": [
    "## Building the neural network\n",
    "To begin we need to "
   ]
  }
 ],
 "metadata": {
  "kernelspec": {
   "display_name": "Python 3",
   "language": "python",
   "name": "python3"
  },
  "language_info": {
   "codemirror_mode": {
    "name": "ipython",
    "version": 3
   },
   "file_extension": ".py",
   "mimetype": "text/x-python",
   "name": "python",
   "nbconvert_exporter": "python",
   "pygments_lexer": "ipython3",
   "version": "3.6.5"
  }
 },
 "nbformat": 4,
 "nbformat_minor": 2
}
