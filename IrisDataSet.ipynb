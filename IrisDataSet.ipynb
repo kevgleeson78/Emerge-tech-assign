{
 "cells": [
  {
   "cell_type": "markdown",
   "metadata": {},
   "source": [
    "# The Iris Dtatset"
   ]
  },
  {
   "cell_type": "markdown",
   "metadata": {},
   "source": [
    "The Iris data set was intorduced by [Ronald Fisher](\"https://en.wikipedia.org/wiki/Ronald_Fisher\") to explian the linear discriminent model. This model differentiates clusters of grouped data into different categories based on the common shared values for each individual category being investigated.\n",
    "\n",
    "The Iris data set has three different species of iris.<br>\n",
    "- Versicolor\n",
    "- Setosia\n",
    "- Verginica\n",
    "\n",
    "For each of these species there are Four measurments taken:\n",
    "- Pettal width\n",
    "- Pettal length\n",
    "- Sepple width\n",
    "- Sepple length\n",
    "\n",
    "In the below examples we will plot this data from different view points and see that there is one distinct species of Iris that is distinguishable from the other two species.\n",
    "\n",
    "We will then see, how can we distinguish between the two closely overlapping species.\n"
   ]
  },
  {
   "cell_type": "markdown",
   "metadata": {},
   "source": [
    "@Todo\n",
    "- Introduction\n",
    "- Display Data in raw form with explanation of the structure\n",
    "- Plot the data set for each species and measurements\n",
    "- Explain how difficult it is to sepparate the three species\n",
    "- Techniques that could be used\n",
    "- An example to solve the problem"
   ]
  },
  {
   "cell_type": "markdown",
   "metadata": {},
   "source": [
    "## Import packages"
   ]
  },
  {
   "cell_type": "code",
   "execution_count": 1,
   "metadata": {},
   "outputs": [
    {
     "name": "stderr",
     "output_type": "stream",
     "text": [
      "C:\\Users\\Kevin\\Anaconda3\\lib\\site-packages\\h5py\\__init__.py:36: FutureWarning: Conversion of the second argument of issubdtype from `float` to `np.floating` is deprecated. In future, it will be treated as `np.float64 == np.dtype(float).type`.\n",
      "  from ._conv import register_converters as _register_converters\n",
      "Using TensorFlow backend.\n"
     ]
    }
   ],
   "source": [
    "import keras as ks\n",
    "import pandas as pnd\n",
    "import sklearn.preprocessing as pre\n",
    "import sklearn.model_selection as mod\n"
   ]
  },
  {
   "cell_type": "code",
   "execution_count": null,
   "metadata": {},
   "outputs": [],
   "source": []
  },
  {
   "cell_type": "code",
   "execution_count": null,
   "metadata": {},
   "outputs": [],
   "source": []
  },
  {
   "cell_type": "code",
   "execution_count": null,
   "metadata": {},
   "outputs": [],
   "source": []
  }
 ],
 "metadata": {
  "kernelspec": {
   "display_name": "Python 3",
   "language": "python",
   "name": "python3"
  },
  "language_info": {
   "codemirror_mode": {
    "name": "ipython",
    "version": 3
   },
   "file_extension": ".py",
   "mimetype": "text/x-python",
   "name": "python",
   "nbconvert_exporter": "python",
   "pygments_lexer": "ipython3",
   "version": "3.6.5"
  }
 },
 "nbformat": 4,
 "nbformat_minor": 2
}
