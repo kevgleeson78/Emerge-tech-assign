{
 "cells": [
  {
   "cell_type": "markdown",
   "metadata": {},
   "source": [
    "# The numpy random package \n",
    " The numpy random package is used to generate random numbers to simulate real world occurances of data.\n",
    "\n",
    "When measuring real world data there are so many factors that can skew a result it becomes almost impossible to replicate this by simply simulating data in a linear fashion. Some chaos needs to be added to the simulated data to mimic a real world environment.\n",
    "\n",
    "For example, the breaking point of a metal chain colud be 900psi but there are factors that could make the chain break at a lesser force. Factors causing this could be the chain has rusted or the links have a manufacturing default. The opposite could also be true if the chain has slightly thicker links it would need a higher force to break a link in the chain.\n",
    "\n",
    "If the chain brakes at exactly 900psi every time this would be graphically represented by an exact straight line between each event. In reality, this will almost never happen, so we need a way of adding this uncertainty into our data. This is where the random package comes in. \n",
    "\n",
    "It can be used to generate random noise around the linear data set and give a more realistic view of what could happen in the real world.\n",
    "\n",
    "I addition different distributions can be placed on the random data to find a common ground or relationship between each event.\n",
    "These distributions can be used on real world data to identify relationships between data point when represented on a graph.\n",
    "\n",
    "#### In this note book we will generate some linear data and then add some noise to simulate real world behaviour. We will then use a number of distributions to see if we can identify some common patterns between the fragmented data points.\n",
    "\n",
    "#### For each distribution, an explaination will be give on what the distributions function is and plots will be renderred so we can visualise the data from different aspects and get a better idea of what is going on.\n"
   ]
  },
  {
   "cell_type": "markdown",
   "metadata": {},
   "source": [
    "### First we need to import all of the python packages that we are going to use"
   ]
  },
  {
   "cell_type": "code",
   "execution_count": 1,
   "metadata": {},
   "outputs": [],
   "source": [
    "## Import packages\n",
    "import numpy as np\n",
    "import matplotlib.pyplot as plt"
   ]
  },
  {
   "cell_type": "markdown",
   "metadata": {},
   "source": [
    "## random.rand function\n",
    "This function generates a random number between including zero and up to non inclusive of one.\n",
    "The parameters that can be passed are the amount of dimensions that a returned array will have.\n",
    "If no parameters are passed to the function a single randomly generated number betwenn zero and one will be returned."
   ]
  },
  {
   "cell_type": "code",
   "execution_count": 2,
   "metadata": {},
   "outputs": [
    {
     "data": {
      "text/plain": [
       "0.027998683632479482"
      ]
     },
     "execution_count": 2,
     "metadata": {},
     "output_type": "execute_result"
    }
   ],
   "source": [
    "np.random.rand()"
   ]
  },
  {
   "cell_type": "markdown",
   "metadata": {},
   "source": [
    "If a single value is passed a one dimensional array will be returned. This value will be the number of values between zero and one held within the array. The below example the number 3000 is passed as a parameter and 3000 random values are returned."
   ]
  },
  {
   "cell_type": "code",
   "execution_count": 3,
   "metadata": {},
   "outputs": [],
   "source": [
    "x = np.random.rand(3000)\n"
   ]
  },
  {
   "cell_type": "markdown",
   "metadata": {},
   "source": [
    "We can then view this data via a histogram. This will display the frequency of randomly generated values  between zero inclusive and up to one non inclusive."
   ]
  },
  {
   "cell_type": "code",
   "execution_count": 4,
   "metadata": {},
   "outputs": [
    {
     "data": {
      "text/plain": [
       "(array([306., 308., 296., 284., 320., 275., 291., 311., 302., 307.]),\n",
       " array([1.62667398e-04, 1.00142172e-01, 2.00121676e-01, 3.00101180e-01,\n",
       "        4.00080684e-01, 5.00060188e-01, 6.00039692e-01, 7.00019196e-01,\n",
       "        7.99998700e-01, 8.99978205e-01, 9.99957709e-01]),\n",
       " <a list of 10 Patch objects>)"
      ]
     },
     "execution_count": 4,
     "metadata": {},
     "output_type": "execute_result"
    },
    {
     "data": {
      "image/png": "[encoded data removed]",
      "text/plain": [
       "<Figure size 432x288 with 1 Axes>"
      ]
     },
     "metadata": {},
     "output_type": "display_data"
    }
   ],
   "source": [
    "plt.hist(x)"
   ]
  },
  {
   "cell_type": "markdown",
   "metadata": {},
   "source": [
    "If two arguments are passed to the function a two dimensional array will be created. The first argument selects how many rows there will be in the array. The second argument selects how many columns there will be in the array. In the below example there is a three by five array of random numbers between one and zero.\n"
   ]
  },
  {
   "cell_type": "code",
   "execution_count": 5,
   "metadata": {},
   "outputs": [
    {
     "data": {
      "text/plain": [
       "array([[0.44667096, 0.90763609, 0.31157208, 0.40367775, 0.24703081],\n",
       "       [0.37863158, 0.0188888 , 0.51814283, 0.737131  , 0.71444335],\n",
       "       [0.98516666, 0.45779571, 0.26029351, 0.54869932, 0.82966228]])"
      ]
     },
     "execution_count": 5,
     "metadata": {},
     "output_type": "execute_result"
    }
   ],
   "source": [
    "np.random.rand(3,5)"
   ]
  },
  {
   "cell_type": "markdown",
   "metadata": {},
   "source": [
    "The more parameters that are pass to the function the more dimensions are created.\n",
    "The below example is a three dimendional array as three parameters have been passed to the function."
   ]
  },
  {
   "cell_type": "code",
   "execution_count": 6,
   "metadata": {},
   "outputs": [
    {
     "data": {
      "text/plain": [
       "array([[[0.20579823, 0.07539617, 0.63796762],\n",
       "        [0.67223929, 0.02231773, 0.39863982],\n",
       "        [0.6646928 , 0.37617039, 0.33990059]],\n",
       "\n",
       "       [[0.33136672, 0.11685462, 0.86666693],\n",
       "        [0.01103751, 0.61949294, 0.75000177],\n",
       "        [0.62968955, 0.77650872, 0.22862433]],\n",
       "\n",
       "       [[0.15171354, 0.15338241, 0.76878898],\n",
       "        [0.64343838, 0.02714087, 0.95784239],\n",
       "        [0.73852551, 0.22906267, 0.11413079]]])"
      ]
     },
     "execution_count": 6,
     "metadata": {},
     "output_type": "execute_result"
    }
   ],
   "source": [
    "np.random.rand(3,3,3)"
   ]
  },
  {
   "cell_type": "markdown",
   "metadata": {},
   "source": [
    "## The random.uniform disribution\n",
    "Uniform distribution is simular to the rand function but it allows you to choose the range of values to be generated.\n",
    "With the rand function only values between zero and one are generated. With the unifrom distribution function we can define the range to be generated.\n",
    "\n",
    "The first parameter is the lower bound which is inclusive.\n",
    "The second parameter is the upper bound which is non inclusive.\n",
    "The third parameter is the amount of values to be generated.\n",
    "In the below example we will generate 1000 random values between zero inclusive and ten non inclusive."
   ]
  },
  {
   "cell_type": "code",
   "execution_count": 7,
   "metadata": {},
   "outputs": [],
   "source": [
    "s = np.random.uniform(0, 10, 1000)"
   ]
  },
  {
   "cell_type": "markdown",
   "metadata": {},
   "source": [
    "The below plot shows the frequency of numbers within a given range.\n",
    "The first part of the plot shows that there are roughly 95 numbers between zero and one, 110 numbers between one and two etc.."
   ]
  },
  {
   "cell_type": "code",
   "execution_count": 8,
   "metadata": {},
   "outputs": [
    {
     "data": {
      "image/png": "[encoded data removed]",
      "text/plain": [
       "<Figure size 432x288 with 1 Axes>"
      ]
     },
     "metadata": {},
     "output_type": "display_data"
    }
   ],
   "source": [
    "plt.hist(s)\n",
    "plt.show()"
   ]
  },
  {
   "cell_type": "markdown",
   "metadata": {},
   "source": [
    "## The random.normal distribution\n"
   ]
  },
  {
   "cell_type": "code",
   "execution_count": 9,
   "metadata": {},
   "outputs": [],
   "source": [
    "s = np.random.normal(0, 0.1, 1000)"
   ]
  },
  {
   "cell_type": "code",
   "execution_count": 10,
   "metadata": {},
   "outputs": [
    {
     "data": {
      "text/plain": [
       "(array([  4.,   9.,  57., 134., 237., 282., 182.,  69.,  21.,   5.]),\n",
       " array([-0.36523617, -0.29577847, -0.22632077, -0.15686307, -0.08740537,\n",
       "        -0.01794767,  0.05151003,  0.12096774,  0.19042544,  0.25988314,\n",
       "         0.32934084]),\n",
       " <a list of 10 Patch objects>)"
      ]
     },
     "execution_count": 10,
     "metadata": {},
     "output_type": "execute_result"
    },
    {
     "data": {
      "image/png": "[encoded data removed]",
      "text/plain": [
       "<Figure size 432x288 with 1 Axes>"
      ]
     },
     "metadata": {},
     "output_type": "display_data"
    }
   ],
   "source": [
    "plt.hist(s)"
   ]
  },
  {
   "cell_type": "markdown",
   "metadata": {},
   "source": [
    "## The random.logistic distribution\n",
    "With the logistic distribution the function takes three parameters.\n",
    "The first parameter is the mean value of the values generated.\n",
    "The second parameter is the scale of the distribution (How far the data should be spread out over the x-axis)\n",
    "The third parameter is the amount of sample to drawn to the plot. If one argument is passed to the size function it will genreate that amount of sample data. \n",
    "If two parameters are passed random.logistic(2, 2, (4,2)) the first value is the amount of data to be generated.\n",
    "The second argument is the amount of sample data.\n",
    "This will give us the proabillity of values occuring between a certain values.\n",
    "in the below exapmle whre the median is one we can see the most of ht evalues are between negitive six and positive six around the mean value of one."
   ]
  },
  {
   "cell_type": "code",
   "execution_count": 11,
   "metadata": {},
   "outputs": [
    {
     "data": {
      "image/png": "[encoded data removed]",
      "text/plain": [
       "<Figure size 432x288 with 1 Axes>"
      ]
     },
     "metadata": {},
     "output_type": "display_data"
    }
   ],
   "source": [
    "\n",
    "s = np.random.logistic(1, 4, 100)\n",
    "plt.hist(s,bins=20)\n",
    "\n",
    "plt.show()\n"
   ]
  },
  {
   "cell_type": "markdown",
   "metadata": {},
   "source": [
    "### The random.binomial distribution\n",
    "This distribution outputs the possible outcome of a random actions run over a predetermined time line.\n",
    "In the below example the function takes three parameters.\n",
    "The first parameter is the amount of times hte test will run, in this case ten times.\n",
    "The second parameter is the chances of the event happening, in this case there is a 50% chance of either action occuring.\n",
    "The third parameter is the amount of times the test will run.\n",
    "The below example simulates a coin toss.\n",
    "The coin is tossed five times for each run of the test (The first parameter)\n",
    "The test is then run ten times (The third parameter)"
   ]
  },
  {
   "cell_type": "code",
   "execution_count": 93,
   "metadata": {},
   "outputs": [],
   "source": [
    "g = np.random.binomial(5,.5, 10)"
   ]
  },
  {
   "cell_type": "markdown",
   "metadata": {},
   "source": [
    "The below plot shows the outcome of each test with the y-axis showing how many matching flips of a coin have occured.\n",
    "The x-axis is the test number that has been performed."
   ]
  },
  {
   "cell_type": "code",
   "execution_count": 94,
   "metadata": {
    "scrolled": true
   },
   "outputs": [
    {
     "data": {
      "image/png": "[encoded data removed]",
      "text/plain": [
       "<Figure size 432x288 with 1 Axes>"
      ]
     },
     "metadata": {},
     "output_type": "display_data"
    }
   ],
   "source": [
    "plt.plot(g)\n",
    "plt.show()\n",
    "\n",
    "\n"
   ]
  },
  {
   "cell_type": "markdown",
   "metadata": {},
   "source": [
    "## The random.poisson distribution"
   ]
  },
  {
   "cell_type": "code",
   "execution_count": 95,
   "metadata": {},
   "outputs": [],
   "source": [
    "import numpy as np\n",
    "s = np.random.poisson(5, 10000)"
   ]
  },
  {
   "cell_type": "code",
   "execution_count": 98,
   "metadata": {},
   "outputs": [
    {
     "data": {
      "image/png": "[encoded data removed]",
      "text/plain": [
       "<Figure size 432x288 with 1 Axes>"
      ]
     },
     "metadata": {},
     "output_type": "display_data"
    }
   ],
   "source": [
    "plt.hist(s)\n",
    "plt.show()"
   ]
  },
  {
   "cell_type": "code",
   "execution_count": null,
   "metadata": {},
   "outputs": [],
   "source": []
  }
 ],
 "metadata": {
  "kernelspec": {
   "display_name": "Python 3",
   "language": "python",
   "name": "python3"
  },
  "language_info": {
   "codemirror_mode": {
    "name": "ipython",
    "version": 3
   },
   "file_extension": ".py",
   "mimetype": "text/x-python",
   "name": "python",
   "nbconvert_exporter": "python",
   "pygments_lexer": "ipython3",
   "version": "3.6.5"
  }
 },
 "nbformat": 4,
 "nbformat_minor": 2
}
