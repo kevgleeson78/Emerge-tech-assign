{
 "cells": [
  {
   "cell_type": "markdown",
   "metadata": {},
   "source": [
    "# The numpy random package \n",
    " The numpy random package is used to generate random numbers to simulate real world occurances of data.\n",
    "\n",
    "When measuring real world data there are so many factors that can skew a result it becomes almost impossible to replicate this by simply simulating data in a linear fashion. Some chaos needs to be added to the simulated data to mimic a real world environment.\n",
    "\n",
    "For example, the breaking point of a metal chain colud be 900psi but there are factors that could make the chain break at a lesser force. Factors causing this could be the chain has rusted or the links have a manufacturing default. The opposite could also be true if the chain has slightly thicker links it would need a higher force to break a link in the chain.\n",
    "\n",
    "If the chain brakes at exactly 900psi every time this would be graphically represented by an exact straight line between each event. In reality, this will almost never happen, so we need a way of adding this uncertainty into our data. This is where the random package comes in. \n",
    "\n",
    "It can be used to generate random noise around the linear data set and give a more realistic view of what could happen in the real world.\n",
    "\n",
    "I addition different distributions can be placed on the random data to find a common ground or relationship between each event.\n",
    "These distributions can be used on real world data to identify relationships between each data point when represented on a graph.\n",
    "\n",
    "#### In this note book we will explore the random package to some random vaules. We will then use a variety distributions to acertain if we can identify some common behaviour between these randomly generated values.\n",
    "\n",
    "#### For each distribution, an explaination will be give on what the distributions function is and plots will be renderred so we can visualise the data from different aspects and get a better idea of what is going on.\n"
   ]
  },
  {
   "cell_type": "markdown",
   "metadata": {},
   "source": [
    "### First we need to import all of the python packages that we are going to use\n",
    "The alias is used to save typing out the full name of the package when we are calling the various functions for each package imported.\n",
    "\n",
    "In this case it will be np for the numpy package and plt for the matplotlib.pyplot package "
   ]
  },
  {
   "cell_type": "code",
   "execution_count": 1,
   "metadata": {},
   "outputs": [],
   "source": [
    "## Import packages\n",
    "import numpy as np\n",
    "import matplotlib.pyplot as plt"
   ]
  },
  {
   "cell_type": "markdown",
   "metadata": {},
   "source": [
    "## random.rand function\n",
    "This function generates a random number between including zero and up to non inclusive of one.\n",
    "The parameters that can be passed are the amount of dimensions that a returned array will have.\n",
    "If no parameters are passed to the function a single randomly generated number betwenn zero and one will be returned."
   ]
  },
  {
   "cell_type": "code",
   "execution_count": 2,
   "metadata": {},
   "outputs": [
    {
     "data": {
      "text/plain": [
       "0.07578372312857762"
      ]
     },
     "execution_count": 2,
     "metadata": {},
     "output_type": "execute_result"
    }
   ],
   "source": [
    "np.random.rand()"
   ]
  },
  {
   "cell_type": "markdown",
   "metadata": {},
   "source": [
    "## Test case: The breaking point of metal chains\n",
    "\n",
    "With the below examle we will demonstrate how the random package can be used to simulate real world data.<br/>\n",
    "First generate 20 random values between one and twenty.<br/>\n",
    "Each of these values will represent the psi breaking point of a single chain."
   ]
  },
  {
   "cell_type": "code",
   "execution_count": 3,
   "metadata": {},
   "outputs": [],
   "source": [
    "t = np.random.rand(1,10)"
   ]
  },
  {
   "cell_type": "markdown",
   "metadata": {},
   "source": [
    "Print out the array t"
   ]
  },
  {
   "cell_type": "code",
   "execution_count": 4,
   "metadata": {},
   "outputs": [
    {
     "name": "stdout",
     "output_type": "stream",
     "text": [
      "[[0.11943588 0.88103039 0.72894905 0.38904374 0.93263849 0.53509176\n",
      "  0.01752955 0.69849558 0.78506441 0.29785182]]\n"
     ]
    }
   ],
   "source": [
    "print(t)\n",
    "plt.rcParams['figure.figsize'] = (8, 6)"
   ]
  },
  {
   "cell_type": "markdown",
   "metadata": {},
   "source": [
    "## Plotting the data\n",
    "\n",
    "As the below plot shows there are 20 values in an exact straight line. This would signify that the breaking point is always exactly the same which is not the case in the real world.<br/>\n"
   ]
  },
  {
   "cell_type": "code",
   "execution_count": 5,
   "metadata": {},
   "outputs": [
    {
     "data": {
      "image/png": "[encoded data removed]",
      "text/plain": [
       "<Figure size 576x432 with 1 Axes>"
      ]
     },
     "metadata": {},
     "output_type": "display_data"
    }
   ],
   "source": [
    "plt.plot(t, 1, 'k.')\n",
    "plt.xlabel('Event')\n",
    "plt.ylabel('Breaking Point')\n",
    "plt.show()"
   ]
  },
  {
   "cell_type": "markdown",
   "metadata": {},
   "source": [
    "## Introducing random noise\n",
    "Random noise can be introduced to simulate real world variables that could effect the data such as rusting of the chain, incorrect force placed on the chain or a weakness of the metal link etc..."
   ]
  },
  {
   "cell_type": "code",
   "execution_count": 6,
   "metadata": {},
   "outputs": [
    {
     "data": {
      "image/png": "[encoded data removed]",
      "text/plain": [
       "<Figure size 576x432 with 1 Axes>"
      ]
     },
     "metadata": {},
     "output_type": "display_data"
    }
   ],
   "source": [
    "d = 5.0 * t + 100.0 + np.random.normal(0.0, 5.0, t.size)\n",
    "\n",
    "\n",
    "plt.plot(t, d, 'k.')\n",
    "\n",
    "plt.xlabel('Event')\n",
    "plt.ylabel('Breaking Point')\n",
    "plt.show()"
   ]
  },
  {
   "cell_type": "markdown",
   "metadata": {},
   "source": [
    "## Result\n",
    "The above plot is a more realistic representation of real world test dataset.The data is spread accross a normal distribution to create random noise and represent environment bias that may skew the results."
   ]
  },
  {
   "cell_type": "markdown",
   "metadata": {},
   "source": [
    "## Random values with plots\n",
    "If a single value is passed to the random function a one dimensional array will be returned. This value will be the number of values between zero and one held within the array. The below example the number 1000 is passed as a parameter and 3000 random values are returned."
   ]
  },
  {
   "cell_type": "code",
   "execution_count": 7,
   "metadata": {},
   "outputs": [],
   "source": [
    "x = np.random.rand(1000)\n"
   ]
  },
  {
   "cell_type": "markdown",
   "metadata": {},
   "source": [
    "## Histogram\n",
    "We can then view this data via a histogram. This will display the frequency of randomly generated values  between zero inclusive and up to one non inclusive."
   ]
  },
  {
   "cell_type": "code",
   "execution_count": 8,
   "metadata": {},
   "outputs": [
    {
     "data": {
      "image/png": "[encoded data removed]",
      "text/plain": [
       "<Figure size 576x432 with 1 Axes>"
      ]
     },
     "metadata": {},
     "output_type": "display_data"
    }
   ],
   "source": [
    "plt.hist(x)\n",
    "plt.show()"
   ]
  },
  {
   "cell_type": "markdown",
   "metadata": {},
   "source": [
    "If two arguments are passed to the function a two dimensional array will be created. The first argument selects how many rows there will be in the array. The second argument selects how many columns there will be in the array. In the below example there is a three by five array of random numbers between zero and one.\n"
   ]
  },
  {
   "cell_type": "code",
   "execution_count": 9,
   "metadata": {},
   "outputs": [
    {
     "data": {
      "text/plain": [
       "array([[0.37166339, 0.76114542, 0.83682595, 0.30585352, 0.83024214],\n",
       "       [0.75885609, 0.22570209, 0.48450347, 0.33110238, 0.50243757],\n",
       "       [0.8209366 , 0.15251678, 0.68050936, 0.6027405 , 0.7718753 ]])"
      ]
     },
     "execution_count": 9,
     "metadata": {},
     "output_type": "execute_result"
    }
   ],
   "source": [
    "np.random.rand(3,5)"
   ]
  },
  {
   "cell_type": "markdown",
   "metadata": {},
   "source": [
    "The more parameters that are pass to the function the more dimensions are created.\n",
    "The below example is a three dimendional array as three parameters have been passed to the function."
   ]
  },
  {
   "cell_type": "code",
   "execution_count": 10,
   "metadata": {},
   "outputs": [
    {
     "data": {
      "text/plain": [
       "array([[[0.97563423, 0.01185978, 0.37222781],\n",
       "        [0.52556294, 0.49578301, 0.86624341],\n",
       "        [0.75695964, 0.21877532, 0.143072  ]],\n",
       "\n",
       "       [[0.95130475, 0.98721967, 0.30700023],\n",
       "        [0.03223291, 0.91824171, 0.76550904],\n",
       "        [0.50104623, 0.25871825, 0.79627585]],\n",
       "\n",
       "       [[0.30281932, 0.3588901 , 0.15845335],\n",
       "        [0.20356843, 0.04996782, 0.2871802 ],\n",
       "        [0.67191803, 0.2760206 , 0.69556051]]])"
      ]
     },
     "execution_count": 10,
     "metadata": {},
     "output_type": "execute_result"
    }
   ],
   "source": [
    "np.random.rand(3,3,3)"
   ]
  },
  {
   "cell_type": "markdown",
   "metadata": {},
   "source": [
    "## The random.uniform disribution\n",
    "Uniform distribution is simular to the rand function but it allows you to choose the range of values to be generated.\n",
    "With the rand function only values between zero and one are generated. With the unifrom distribution function we can define the range to be generated.\n",
    "\n",
    "The first parameter is the lower bound which is inclusive.\n",
    "The second parameter is the upper bound which is non inclusive.\n",
    "The third parameter is the amount of values to be generated.\n",
    "In the below example we will generate 1000 random values between zero inclusive and ten non inclusive."
   ]
  },
  {
   "cell_type": "code",
   "execution_count": 11,
   "metadata": {},
   "outputs": [],
   "source": [
    "s = np.random.uniform(0, 10, 1000)"
   ]
  },
  {
   "cell_type": "markdown",
   "metadata": {},
   "source": [
    "The below plot shows the frequency of numbers within a given range.\n",
    "The y-axis shows the amount of numbers that have been generated. The x-axis represents the actual numbers within the range defined in the function."
   ]
  },
  {
   "cell_type": "code",
   "execution_count": 12,
   "metadata": {},
   "outputs": [
    {
     "data": {
      "image/png": "[encoded data removed]",
      "text/plain": [
       "<Figure size 576x432 with 1 Axes>"
      ]
     },
     "metadata": {},
     "output_type": "display_data"
    }
   ],
   "source": [
    "plt.hist(s)\n",
    "plt.show()"
   ]
  },
  {
   "cell_type": "markdown",
   "metadata": {},
   "source": [
    "## The random.normal distribution\n",
    "The normal distribution fucntion takes three parameters.\n",
    "\n",
    "The First patameter is the mean value.\n",
    "This is the mid point where most of the data will cluster.<br>\n",
    "The second parameter is the standard deviation which sets how far out from the mean point the data will most likely spread. <br>\n",
    "The third parameter is the amount of data to be randomly generated. \n",
    "\n",
    "\n"
   ]
  },
  {
   "cell_type": "code",
   "execution_count": 13,
   "metadata": {},
   "outputs": [],
   "source": [
    "s = np.random.normal(0, 0.1, 1000)"
   ]
  },
  {
   "cell_type": "markdown",
   "metadata": {},
   "source": [
    "In the below plot we can see an obvious curve in the result.<br>\n",
    "This is known as a bell shaped curve as its shape would sugguest.<br>\n",
    "We can see that most of the randomly genertated data has gatherd around the median point (0) previously set in the function above.<br>\n",
    "We can also se that the standard deviation is either side of the median by a range of 0.1<br>\n",
    "The futher away from the median the data is, the more unlikely it is to occur if random actions are taken.<br>\n",
    "This function can be used to visualise and investigate possible common relationships between a large dataset of random values."
   ]
  },
  {
   "cell_type": "code",
   "execution_count": 14,
   "metadata": {},
   "outputs": [
    {
     "data": {
      "text/plain": [
       "(array([  2.,  15.,  45., 142., 219., 293., 177.,  72.,  28.,   7.]),\n",
       " array([-0.35063981, -0.28269295, -0.2147461 , -0.14679924, -0.07885238,\n",
       "        -0.01090552,  0.05704134,  0.1249882 ,  0.19293506,  0.26088191,\n",
       "         0.32882877]),\n",
       " <a list of 10 Patch objects>)"
      ]
     },
     "execution_count": 14,
     "metadata": {},
     "output_type": "execute_result"
    },
    {
     "data": {
      "image/png": "[encoded data removed]",
      "text/plain": [
       "<Figure size 576x432 with 1 Axes>"
      ]
     },
     "metadata": {},
     "output_type": "display_data"
    }
   ],
   "source": [
    "plt.hist(s)"
   ]
  },
  {
   "cell_type": "markdown",
   "metadata": {},
   "source": [
    "## The random.logistic distribution\n",
    "With the logistic distribution the function takes three parameters.\n",
    "The first parameter is the mean value of the values generated.\n",
    "The second parameter is the scale of the distribution (How far the data should be spread out over the x-axis)\n",
    "The third parameter is the amount of samples to be drawn to the plot. If one argument is passed to the size function it will genreate that amount of sample data. \n",
    "\n",
    "If two parameters are passed random.logistic(2, 2, (4,2)) the first value is the amount of data to be generated.\n",
    "The second argument is the amount of sample data.\n",
    "This will give us the proabillity of values occuring between a certain values.\n",
    "\n",
    "The logistic distribution is very simular to the normal distribution in that it has the same bell shape.<br>\n",
    "The main difference between the two distributions are the steepness of the the curves.<br>\n",
    "This would indicate that the logistic distribution is less forgiving than the more gentle slope of the normal distribution above.<br>\n",
    "\n",
    "In the below exapmle whre the median is one so we can see the most of the values are generated around here with the other vaules tapering off steeply in both directions. The chances of a random action occuring outside of the imediate median are greatly diminished. "
   ]
  },
  {
   "cell_type": "code",
   "execution_count": 15,
   "metadata": {},
   "outputs": [
    {
     "data": {
      "image/png": "[encoded data removed]",
      "text/plain": [
       "<Figure size 576x432 with 1 Axes>"
      ]
     },
     "metadata": {},
     "output_type": "display_data"
    }
   ],
   "source": [
    "\n",
    "s = np.random.logistic(1, 4, 1000)\n",
    "plt.hist(s,bins=50)\n",
    "\n",
    "plt.show()\n"
   ]
  },
  {
   "cell_type": "markdown",
   "metadata": {},
   "source": [
    "### The random.binomial distribution\n",
    "This distribution outputs the possible outcome of a random actions run over a predetermined time line.\n",
    "In the below example the function takes three parameters.\n",
    "The first parameter is the amount of times the test will run, in this case ten times.\n",
    "The second parameter is the chances of the event happening, in this case there is a 50% chance of either action occuring.\n",
    "The third parameter is the amount of times the test will run.\n",
    "The below example simulates a coin toss.\n",
    "The coin is tossed five times for each run of the test (The first parameter)\n",
    "The test is then run ten times (The third parameter)"
   ]
  },
  {
   "cell_type": "code",
   "execution_count": 16,
   "metadata": {},
   "outputs": [],
   "source": [
    "g = np.random.binomial(5,.5, 10)"
   ]
  },
  {
   "cell_type": "markdown",
   "metadata": {},
   "source": [
    "The below plot shows the outcome of each test with the y-axis showing how many matching flips of a coin have occured after ten flips of the coin.\n",
    "The x-axis is the test number that has been performed."
   ]
  },
  {
   "cell_type": "code",
   "execution_count": 17,
   "metadata": {
    "scrolled": true
   },
   "outputs": [
    {
     "data": {
      "image/png": "[encoded data removed]",
      "text/plain": [
       "<Figure size 576x432 with 1 Axes>"
      ]
     },
     "metadata": {},
     "output_type": "display_data"
    }
   ],
   "source": [
    "plt.plot(g)\n",
    "plt.show()\n",
    "\n",
    "\n"
   ]
  },
  {
   "cell_type": "markdown",
   "metadata": {},
   "source": [
    "## The random.poisson distribution\n",
    "The random.poisson distribution calculates the probablilty of a set of actions occuring over a predefined time period.<br>\n",
    "The function take two parameters.<br>\n",
    "The first paramater is the amount of actions that will take place within a single event.<br>\n",
    "The second parameter represents the amount of single events in time to be run.<br>"
   ]
  },
  {
   "cell_type": "code",
   "execution_count": 18,
   "metadata": {},
   "outputs": [],
   "source": [
    "import numpy as np\n",
    "s = np.random.poisson(5, 10000)"
   ]
  },
  {
   "cell_type": "markdown",
   "metadata": {},
   "source": [
    "As the below diagram shows the y-axis represents the frequency of the five events occuring.<br>\n",
    "The x-axis represents time intervals.\n",
    "There is an evident pattern of a steep incline at the beginning and a dramatic fall off as time progresses."
   ]
  },
  {
   "cell_type": "code",
   "execution_count": 19,
   "metadata": {},
   "outputs": [
    {
     "data": {
      "image/png": "[encoded data removed]",
      "text/plain": [
       "<Figure size 576x432 with 1 Axes>"
      ]
     },
     "metadata": {},
     "output_type": "display_data"
    }
   ],
   "source": [
    "plt.hist(s)\n",
    "plt.show()"
   ]
  },
  {
   "cell_type": "code",
   "execution_count": null,
   "metadata": {},
   "outputs": [],
   "source": []
  }
 ],
 "metadata": {
  "kernelspec": {
   "display_name": "Python 3",
   "language": "python",
   "name": "python3"
  },
  "language_info": {
   "codemirror_mode": {
    "name": "ipython",
    "version": 3
   },
   "file_extension": ".py",
   "mimetype": "text/x-python",
   "name": "python",
   "nbconvert_exporter": "python",
   "pygments_lexer": "ipython3",
   "version": "3.6.5"
  }
 },
 "nbformat": 4,
 "nbformat_minor": 2
}
