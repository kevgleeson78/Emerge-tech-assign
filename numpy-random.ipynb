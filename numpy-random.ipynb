{
 "cells": [
  {
   "cell_type": "markdown",
   "metadata": {},
   "source": [
    "# The numpy random package \n",
    " The numpy random package is used to generate random numbers to simulate real world occurances of data.\n",
    "\n",
    "When measuring real world data there are so many factors that can skew a result it becomes almost impossible to replicate this by simply simulating data in a linear fashion. Some chaos needs to be added to the simulated data to mimic a real world environment.\n",
    "\n",
    "For example, the breaking point of a metal chain colud be 900psi but there are factors that could make the chain break at a lesser force. Factors causing this could be the chain has rusted or the links have a manufacturing default. The opposite could also be true if the chain has slightly thicker links it would need a higher force to break a link in the chain.\n",
    "\n",
    "If the chain brakes at exactly 900psi every time this would be graphically represented by an exact straight line between each event. In reality, this will almost never happen, so we need a way of adding this uncertainty into our data. This is where the random package comes in. \n",
    "\n",
    "It can be used to generate random noise around the linear data set and give a more realistic view of what could happen in the real world.\n",
    "\n",
    "I addition different distributions can be placed on the random data to find a common ground or relationship between each event.\n",
    "These distributions can be used on real world data to identify relationships between data point when represented on a graph.\n",
    "\n",
    "#### In this note book we will generate some linear data and then add some noise to simulate real world behaviour. We will then use a number of distributions to see if we can identify some common patterns between the fragmented data points.\n",
    "\n",
    "#### For each distribution, an explaination will be give on what the distributions function is and plots will be renderred so we can visualise the data from different aspects and get a better idea of what is going on.\n"
   ]
  },
  {
   "cell_type": "code",
   "execution_count": 1,
   "metadata": {},
   "outputs": [],
   "source": [
    "## Import packages\n",
    "import numpy as np\n",
    "import matplotlib.pyplot as plt"
   ]
  },
  {
   "cell_type": "code",
   "execution_count": 2,
   "metadata": {},
   "outputs": [
    {
     "data": {
      "text/plain": [
       "73.78011173189219"
      ]
     },
     "execution_count": 2,
     "metadata": {},
     "output_type": "execute_result"
    }
   ],
   "source": [
    "np.random.uniform(0.0,100.0)"
   ]
  },
  {
   "cell_type": "code",
   "execution_count": 3,
   "metadata": {},
   "outputs": [],
   "source": [
    "a = np.random.uniform(0.0,100.0)"
   ]
  },
  {
   "cell_type": "code",
   "execution_count": 4,
   "metadata": {},
   "outputs": [
    {
     "data": {
      "text/plain": [
       "22.971581414445474"
      ]
     },
     "execution_count": 4,
     "metadata": {},
     "output_type": "execute_result"
    }
   ],
   "source": [
    "a\n"
   ]
  },
  {
   "cell_type": "code",
   "execution_count": 5,
   "metadata": {},
   "outputs": [
    {
     "data": {
      "image/png": "[encoded data removed]",
      "text/plain": [
       "<Figure size 432x288 with 1 Axes>"
      ]
     },
     "metadata": {},
     "output_type": "display_data"
    }
   ],
   "source": [
    "plt.hist(a)\n",
    "\n",
    "plt.show()"
   ]
  }
 ],
 "metadata": {
  "kernelspec": {
   "display_name": "Python 3",
   "language": "python",
   "name": "python3"
  },
  "language_info": {
   "codemirror_mode": {
    "name": "ipython",
    "version": 3
   },
   "file_extension": ".py",
   "mimetype": "text/x-python",
   "name": "python",
   "nbconvert_exporter": "python",
   "pygments_lexer": "ipython3",
   "version": "3.6.5"
  }
 },
 "nbformat": 4,
 "nbformat_minor": 2
}
