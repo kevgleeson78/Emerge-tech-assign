{
 "cells": [
  {
   "cell_type": "markdown",
   "metadata": {},
   "source": [
    "# The numpy random package \n",
    " The numpy random package is used to generate random numbers to simulate real world occurances of data.\n",
    "\n",
    "When measuring real world data there are so many factors that can skew a result it becomes almost impossible to replicate this by simply simulating data in a linear fashion. Some chaos needs to be added to the simulated data to mimic a real world environment.\n",
    "\n",
    "For example, the breaking point of a metal chain colud be 900psi but there are factors that could make the chain break at a lesser force. Factors causing this could be the chain has rusted or the links have a manufacturing default. The opposite could also be true if the chain has slightly thicker links it would need a higher force to break a link in the chain.\n",
    "\n",
    "If the chain brakes at exactly 900psi every time this would be graphically represented by an exact straight line between each event. In reality, this will almost never happen, so we need a way of adding this uncertainty into our data. This is where the random package comes in. \n",
    "\n",
    "It can be used to generate random noise around the linear data set and give a more realistic view of what could happen in the real world.\n",
    "\n",
    "I addition different distributions can be placed on the random data to find a common ground or relationship between each event.\n",
    "These distributions can be used on real world data to identify relationships between each data point when represented on a graph.\n",
    "\n",
    "#### In this note book we will explore the random package to some random vaules. We will then use a variety distributions to acertain if we can identify some common behaviour between these randomly generated values.\n",
    "\n",
    "#### For each distribution, an explaination will be give on what the distributions function is and plots will be renderred so we can visualise the data from different aspects and get a better idea of what is going on.\n"
   ]
  },
  {
   "cell_type": "markdown",
   "metadata": {},
   "source": [
    "### First we need to import all of the python packages that we are going to use\n",
    "The alias is used to save typing out the full name of the package when we are calling the various functions for each package imported.\n",
    "\n",
    "In this case it will be np for the numpy package and plt for the matplotlib.pyplot package "
   ]
  },
  {
   "cell_type": "code",
   "execution_count": 1,
   "metadata": {},
   "outputs": [],
   "source": [
    "## Import packages\n",
    "import numpy as np\n",
    "import matplotlib.pyplot as plt"
   ]
  },
  {
   "cell_type": "markdown",
   "metadata": {},
   "source": [
    "## random.rand function\n",
    "This function generates a random number between including zero and up to non inclusive of one.\n",
    "The parameters that can be passed are the amount of dimensions that a returned array will have.\n",
    "If no parameters are passed to the function a single randomly generated number betwenn zero and one will be returned."
   ]
  },
  {
   "cell_type": "code",
   "execution_count": 2,
   "metadata": {},
   "outputs": [
    {
     "data": {
      "text/plain": [
       "0.03148655078896545"
      ]
     },
     "execution_count": 2,
     "metadata": {},
     "output_type": "execute_result"
    }
   ],
   "source": [
    "np.random.rand()"
   ]
  },
  {
   "cell_type": "markdown",
   "metadata": {},
   "source": [
    "If a single value is passed a one dimensional array will be returned. This value will be the number of values between zero and one held within the array. The below example the number 1000 is passed as a parameter and 3000 random values are returned."
   ]
  },
  {
   "cell_type": "code",
   "execution_count": 30,
   "metadata": {},
   "outputs": [],
   "source": [
    "x = np.random.rand(1000)\n"
   ]
  },
  {
   "cell_type": "markdown",
   "metadata": {},
   "source": [
    "We can then view this data via a histogram. This will display the frequency of randomly generated values  between zero inclusive and up to one non inclusive."
   ]
  },
  {
   "cell_type": "code",
   "execution_count": 32,
   "metadata": {},
   "outputs": [
    {
     "data": {
      "image/png": "[encoded data removed]",
      "text/plain": [
       "<Figure size 432x288 with 1 Axes>"
      ]
     },
     "metadata": {},
     "output_type": "display_data"
    }
   ],
   "source": [
    "plt.hist(x)\n",
    "plt.show()"
   ]
  },
  {
   "cell_type": "markdown",
   "metadata": {},
   "source": [
    "If two arguments are passed to the function a two dimensional array will be created. The first argument selects how many rows there will be in the array. The second argument selects how many columns there will be in the array. In the below example there is a three by five array of random numbers between zero and one.\n"
   ]
  },
  {
   "cell_type": "code",
   "execution_count": 5,
   "metadata": {},
   "outputs": [
    {
     "data": {
      "text/plain": [
       "array([[0.78533714, 0.12330979, 0.20448434, 0.87068445, 0.54447521],\n",
       "       [0.32218135, 0.6149954 , 0.31082735, 0.09046155, 0.61411363],\n",
       "       [0.04484795, 0.92749403, 0.34651124, 0.53327885, 0.56922985]])"
      ]
     },
     "execution_count": 5,
     "metadata": {},
     "output_type": "execute_result"
    }
   ],
   "source": [
    "np.random.rand(3,5)"
   ]
  },
  {
   "cell_type": "markdown",
   "metadata": {},
   "source": [
    "The more parameters that are pass to the function the more dimensions are created.\n",
    "The below example is a three dimendional array as three parameters have been passed to the function."
   ]
  },
  {
   "cell_type": "code",
   "execution_count": 6,
   "metadata": {},
   "outputs": [
    {
     "data": {
      "text/plain": [
       "array([[[0.23449429, 0.27216322, 0.59288237],\n",
       "        [0.34333095, 0.09344782, 0.88901816],\n",
       "        [0.56131086, 0.33336368, 0.78805253]],\n",
       "\n",
       "       [[0.0262491 , 0.98902786, 0.23076376],\n",
       "        [0.01813467, 0.50667924, 0.37262675],\n",
       "        [0.82290807, 0.18070734, 0.77405159]],\n",
       "\n",
       "       [[0.5564737 , 0.8614687 , 0.19884134],\n",
       "        [0.23806716, 0.88108726, 0.68538211],\n",
       "        [0.23523377, 0.04533268, 0.15998207]]])"
      ]
     },
     "execution_count": 6,
     "metadata": {},
     "output_type": "execute_result"
    }
   ],
   "source": [
    "np.random.rand(3,3,3)"
   ]
  },
  {
   "cell_type": "markdown",
   "metadata": {},
   "source": [
    "## The random.uniform disribution\n",
    "Uniform distribution is simular to the rand function but it allows you to choose the range of values to be generated.\n",
    "With the rand function only values between zero and one are generated. With the unifrom distribution function we can define the range to be generated.\n",
    "\n",
    "The first parameter is the lower bound which is inclusive.\n",
    "The second parameter is the upper bound which is non inclusive.\n",
    "The third parameter is the amount of values to be generated.\n",
    "In the below example we will generate 1000 random values between zero inclusive and ten non inclusive."
   ]
  },
  {
   "cell_type": "code",
   "execution_count": 38,
   "metadata": {},
   "outputs": [],
   "source": [
    "s = np.random.uniform(0, 10, 1000)"
   ]
  },
  {
   "cell_type": "markdown",
   "metadata": {},
   "source": [
    "The below plot shows the frequency of numbers within a given range.\n",
    "The y-axis shows the amount of numbers that have been generated. The x-axis represents the actual numbers within the range defined in the function."
   ]
  },
  {
   "cell_type": "code",
   "execution_count": 39,
   "metadata": {},
   "outputs": [
    {
     "data": {
      "image/png": "[encoded data removed]",
      "text/plain": [
       "<Figure size 432x288 with 1 Axes>"
      ]
     },
     "metadata": {},
     "output_type": "display_data"
    }
   ],
   "source": [
    "plt.hist(s)\n",
    "plt.show()"
   ]
  },
  {
   "cell_type": "markdown",
   "metadata": {},
   "source": [
    "## The random.normal distribution\n",
    "The normal distribution fucntion takes three parameters.\n",
    "\n",
    "The First patameter is the mean value.\n",
    "This is the mid point where most of the data will cluster.<br>\n",
    "The second parameter is the standard deviation which sets how far out from the mean point the data will most likely spread. <br>\n",
    "The third parameter is the amount of data to be randomly generated. \n",
    "\n",
    "\n"
   ]
  },
  {
   "cell_type": "code",
   "execution_count": 9,
   "metadata": {},
   "outputs": [],
   "source": [
    "s = np.random.normal(0, 0.1, 1000)"
   ]
  },
  {
   "cell_type": "markdown",
   "metadata": {},
   "source": [
    "In the below plot we can see an obvious curve in the result.<br>\n",
    "This is known as a bell shaped curve as its shape would sugguest.<br>\n",
    "We can see that most of the randomly genertated data has gatherd around the median point (0) previously set in the function above.<br>\n",
    "We can also se that the standard deviation is either side of the median by a range of 0.1<br>\n",
    "The futher away from the median the data is, the more unlikely it is to occur if random actions are taken.<br>\n",
    "This function can be used to visualise and investigate possible common relationships between a large dataset of random values."
   ]
  },
  {
   "cell_type": "code",
   "execution_count": 10,
   "metadata": {},
   "outputs": [
    {
     "data": {
      "text/plain": [
       "(array([  8.,  24.,  83., 140., 243., 224., 150., 102.,  17.,   9.]),\n",
       " array([-0.30516757, -0.24438366, -0.18359975, -0.12281585, -0.06203194,\n",
       "        -0.00124803,  0.05953587,  0.12031978,  0.18110369,  0.2418876 ,\n",
       "         0.3026715 ]),\n",
       " <a list of 10 Patch objects>)"
      ]
     },
     "execution_count": 10,
     "metadata": {},
     "output_type": "execute_result"
    },
    {
     "data": {
      "image/png": "[encoded data removed]",
      "text/plain": [
       "<Figure size 432x288 with 1 Axes>"
      ]
     },
     "metadata": {},
     "output_type": "display_data"
    }
   ],
   "source": [
    "plt.hist(s)"
   ]
  },
  {
   "cell_type": "markdown",
   "metadata": {},
   "source": [
    "## The random.logistic distribution\n",
    "With the logistic distribution the function takes three parameters.\n",
    "The first parameter is the mean value of the values generated.\n",
    "The second parameter is the scale of the distribution (How far the data should be spread out over the x-axis)\n",
    "The third parameter is the amount of samples to be drawn to the plot. If one argument is passed to the size function it will genreate that amount of sample data. \n",
    "\n",
    "If two parameters are passed random.logistic(2, 2, (4,2)) the first value is the amount of data to be generated.\n",
    "The second argument is the amount of sample data.\n",
    "This will give us the proabillity of values occuring between a certain values.\n",
    "\n",
    "The logistic distribution is very simular to the normal distribution in that it has the same bell shape.<br>\n",
    "The main difference between the two distributions are the steepness of the the curves.<br>\n",
    "This would indicate that the logistic distribution is less forgiving than the more gentle slope of the normal distribution above.<br>\n",
    "\n",
    "In the below exapmle whre the median is one so we can see the most of the values are generated around here with the other vaules tapering off steeply in both directions. The chances of a random action occuring outside of the imediate median are greatly diminished. "
   ]
  },
  {
   "cell_type": "code",
   "execution_count": 43,
   "metadata": {},
   "outputs": [
    {
     "data": {
      "image/png": "[encoded data removed]",
      "text/plain": [
       "<Figure size 432x288 with 1 Axes>"
      ]
     },
     "metadata": {},
     "output_type": "display_data"
    }
   ],
   "source": [
    "\n",
    "s = np.random.logistic(1, 4, 1000)\n",
    "plt.hist(s,bins=50)\n",
    "\n",
    "plt.show()\n"
   ]
  },
  {
   "cell_type": "markdown",
   "metadata": {},
   "source": [
    "### The random.binomial distribution\n",
    "This distribution outputs the possible outcome of a random actions run over a predetermined time line.\n",
    "In the below example the function takes three parameters.\n",
    "The first parameter is the amount of times the test will run, in this case ten times.\n",
    "The second parameter is the chances of the event happening, in this case there is a 50% chance of either action occuring.\n",
    "The third parameter is the amount of times the test will run.\n",
    "The below example simulates a coin toss.\n",
    "The coin is tossed five times for each run of the test (The first parameter)\n",
    "The test is then run ten times (The third parameter)"
   ]
  },
  {
   "cell_type": "code",
   "execution_count": 12,
   "metadata": {},
   "outputs": [],
   "source": [
    "g = np.random.binomial(5,.5, 10)"
   ]
  },
  {
   "cell_type": "markdown",
   "metadata": {},
   "source": [
    "The below plot shows the outcome of each test with the y-axis showing how many matching flips of a coin have occured after ten flips of the coin.\n",
    "The x-axis is the test number that has been performed."
   ]
  },
  {
   "cell_type": "code",
   "execution_count": 13,
   "metadata": {
    "scrolled": true
   },
   "outputs": [
    {
     "data": {
      "image/png": "[encoded data removed]",
      "text/plain": [
       "<Figure size 432x288 with 1 Axes>"
      ]
     },
     "metadata": {},
     "output_type": "display_data"
    }
   ],
   "source": [
    "plt.plot(g)\n",
    "plt.show()\n",
    "\n",
    "\n"
   ]
  },
  {
   "cell_type": "markdown",
   "metadata": {},
   "source": [
    "## The random.poisson distribution\n",
    "The random.poisson distribution calculates the probablilty of a set of actions occuring over a predefined time period.<br>\n",
    "The function take two parameters.<br>\n",
    "The first paramater is the amount of actions that will take place within a single event.<br>\n",
    "The second parameter represents the amount of single events in time to be run.<br>"
   ]
  },
  {
   "cell_type": "code",
   "execution_count": 26,
   "metadata": {},
   "outputs": [],
   "source": [
    "import numpy as np\n",
    "s = np.random.poisson(5, 10000)"
   ]
  },
  {
   "cell_type": "markdown",
   "metadata": {},
   "source": [
    "As the below diagram shows the y-axis represents the frequency of the five events occuring.<br>\n",
    "The x-axis represents time intervals.\n",
    "There is an evident pattern of a steep incline at the beginning and a dramatic fall off as time progresses."
   ]
  },
  {
   "cell_type": "code",
   "execution_count": 27,
   "metadata": {},
   "outputs": [
    {
     "data": {
      "image/png": "[encoded data removed]",
      "text/plain": [
       "<Figure size 432x288 with 1 Axes>"
      ]
     },
     "metadata": {},
     "output_type": "display_data"
    }
   ],
   "source": [
    "plt.hist(s)\n",
    "plt.show()"
   ]
  },
  {
   "cell_type": "code",
   "execution_count": null,
   "metadata": {},
   "outputs": [],
   "source": []
  }
 ],
 "metadata": {
  "kernelspec": {
   "display_name": "Python 3",
   "language": "python",
   "name": "python3"
  },
  "language_info": {
   "codemirror_mode": {
    "name": "ipython",
    "version": 3
   },
   "file_extension": ".py",
   "mimetype": "text/x-python",
   "name": "python",
   "nbconvert_exporter": "python",
   "pygments_lexer": "ipython3",
   "version": "3.6.5"
  }
 },
 "nbformat": 4,
 "nbformat_minor": 2
}
