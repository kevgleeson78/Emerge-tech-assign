{
 "cells": [
  {
   "cell_type": "markdown",
   "metadata": {},
   "source": [
    "# The numpy random package \n",
    " The numpy random package is used to generate random numbers to simulate real world occurances of data.\n",
    "\n",
    "When measuring real world data there are so many factors that can skew a result it becomes almost impossible to replicate this by simply simulating data in a linear fashion. Some chaos needs to be added to the simulated data to mimic a real world environment.\n",
    "\n",
    "For example, the breaking point of a metal chain colud be 900psi but there are factors that could make the chain break at a lesser force. Factors causing this could be the chain has rusted or the links have a manufacturing default. The opposite could also be true if the chain has slightly thicker links it would need a higher force to break a link in the chain.\n",
    "\n",
    "If the chain brakes at exactly 900psi every time this would be graphically represented by an exact straight line between each event. In reality, this will almost never happen, so we need a way of adding this uncertainty into our data. This is where the random package comes in. \n",
    "\n",
    "It can be used to generate random noise around the linear data set and give a more realistic view of what could happen in the real world.\n",
    "\n",
    "I addition different distributions can be placed on the random data to find a common ground or relationship between each event.\n",
    "These distributions can be used on real world data to identify relationships between data point when represented on a graph.\n",
    "\n",
    "#### In this note book we will generate some linear data and then add some noise to simulate real world behaviour. We will then use a number of distributions to see if we can identify some common patterns between the fragmented data points.\n",
    "\n",
    "#### For each distribution, an explaination will be give on what the distributions function is and plots will be renderred so we can visualise the data from different aspects and get a better idea of what is going on.\n"
   ]
  },
  {
   "cell_type": "markdown",
   "metadata": {},
   "source": [
    "### First we need to import all of the python packages that we are going to use"
   ]
  },
  {
   "cell_type": "code",
   "execution_count": 1,
   "metadata": {},
   "outputs": [],
   "source": [
    "## Import packages\n",
    "import numpy as np\n",
    "import matplotlib.pyplot as plt"
   ]
  },
  {
   "cell_type": "markdown",
   "metadata": {},
   "source": [
    "## random.rand function\n",
    "This function generates a random number between including zero and up to non inclusive of one.\n",
    "The parameters that can be passed are the amount of dimensions that a returned array will have.\n",
    "If no parameters are passed to the function a single randomly generated number betwenn zero and one will be returned."
   ]
  },
  {
   "cell_type": "code",
   "execution_count": 2,
   "metadata": {},
   "outputs": [
    {
     "data": {
      "text/plain": [
       "0.7082190983042226"
      ]
     },
     "execution_count": 2,
     "metadata": {},
     "output_type": "execute_result"
    }
   ],
   "source": [
    "np.random.rand()"
   ]
  },
  {
   "cell_type": "markdown",
   "metadata": {},
   "source": [
    "If a single value is passed a one dimensional array will be returned. This value will be the number of values between zero and one held within the array. The below example the number 3000 is passed as a parameter and 3000 random values are returned."
   ]
  },
  {
   "cell_type": "code",
   "execution_count": 3,
   "metadata": {},
   "outputs": [],
   "source": [
    "x = np.random.rand(3000)\n"
   ]
  },
  {
   "cell_type": "markdown",
   "metadata": {},
   "source": [
    "We can then view this data via a histogram. This will display the frequency of randomly generated values  between zero inclusive and up to one non inclusive."
   ]
  },
  {
   "cell_type": "code",
   "execution_count": 4,
   "metadata": {},
   "outputs": [
    {
     "data": {
      "text/plain": [
       "(array([337., 300., 296., 290., 300., 282., 320., 263., 304., 308.]),\n",
       " array([5.13579680e-05, 1.00038097e-01, 2.00024835e-01, 3.00011574e-01,\n",
       "        3.99998312e-01, 4.99985051e-01, 5.99971790e-01, 6.99958528e-01,\n",
       "        7.99945267e-01, 8.99932006e-01, 9.99918744e-01]),\n",
       " <a list of 10 Patch objects>)"
      ]
     },
     "execution_count": 4,
     "metadata": {},
     "output_type": "execute_result"
    },
    {
     "data": {
      "image/png": "[encoded data removed]",
      "text/plain": [
       "<Figure size 432x288 with 1 Axes>"
      ]
     },
     "metadata": {},
     "output_type": "display_data"
    }
   ],
   "source": [
    "plt.hist(x)"
   ]
  },
  {
   "cell_type": "markdown",
   "metadata": {},
   "source": [
    "If two arguments are passed to the function a two dimensional array will be created. The first argument selects how many rows there will be in the array. The second argument selects how many columns there will be in the array. In the below example there is a three by five array of random numbers between one and zero.\n"
   ]
  },
  {
   "cell_type": "code",
   "execution_count": 5,
   "metadata": {},
   "outputs": [
    {
     "data": {
      "text/plain": [
       "array([[0.6210931 , 0.17660434, 0.04501565, 0.76924557, 0.84492313],\n",
       "       [0.90347281, 0.61945743, 0.51838516, 0.94443972, 0.63473064],\n",
       "       [0.93843444, 0.34606186, 0.79293826, 0.26384873, 0.76899009]])"
      ]
     },
     "execution_count": 5,
     "metadata": {},
     "output_type": "execute_result"
    }
   ],
   "source": [
    "np.random.rand(3,5)"
   ]
  },
  {
   "cell_type": "markdown",
   "metadata": {},
   "source": [
    "The more parameters that are pass to the function the more dimensions are created.\n",
    "The below example is a three dimendional array as three parameters have been passed to the function."
   ]
  },
  {
   "cell_type": "code",
   "execution_count": 6,
   "metadata": {},
   "outputs": [
    {
     "data": {
      "text/plain": [
       "array([[[0.10181063, 0.82620943, 0.83842452],\n",
       "        [0.06467764, 0.10812452, 0.55069738],\n",
       "        [0.55736549, 0.44973448, 0.20222703]],\n",
       "\n",
       "       [[0.97278311, 0.38961678, 0.63575372],\n",
       "        [0.82396408, 0.46763344, 0.60724021],\n",
       "        [0.56021998, 0.24125611, 0.74803658]],\n",
       "\n",
       "       [[0.48972255, 0.11025123, 0.5990548 ],\n",
       "        [0.82621833, 0.50746379, 0.31044442],\n",
       "        [0.27019838, 0.56158139, 0.44653761]]])"
      ]
     },
     "execution_count": 6,
     "metadata": {},
     "output_type": "execute_result"
    }
   ],
   "source": [
    "np.random.rand(3,3,3)"
   ]
  },
  {
   "cell_type": "markdown",
   "metadata": {},
   "source": [
    "## The random.uniform disribution\n",
    "Uniform distribution is simular to the rand function but it allows you to choose the range of values to be generated.\n",
    "With the rand function only values between zero and one are generated. With the unifrom distribution function we can define the range to be generated.\n",
    "\n",
    "The first parameter is the lower bound which is inclusive.\n",
    "The second parameter is the upper bound which is non inclusive.\n",
    "The third parameter is the amount of values to be generated.\n",
    "In the below example we will generate 1000 random values between zero inclusive and ten non inclusive."
   ]
  },
  {
   "cell_type": "code",
   "execution_count": 13,
   "metadata": {},
   "outputs": [],
   "source": [
    "s = np.random.uniform(0, 10, 1000)"
   ]
  },
  {
   "cell_type": "markdown",
   "metadata": {},
   "source": [
    "The below plot shows the frequency of numbers within a given range.\n",
    "The first part of the plot shows that there are roughly 95 numbers between zero and one, 110 numbers between one and two etc.."
   ]
  },
  {
   "cell_type": "code",
   "execution_count": 14,
   "metadata": {},
   "outputs": [
    {
     "data": {
      "text/plain": [
       "(array([ 93., 105.,  97., 104., 101., 108., 107.,  92., 102.,  91.]),\n",
       " array([0.01148797, 1.00883034, 2.00617271, 3.00351508, 4.00085745,\n",
       "        4.99819982, 5.99554219, 6.99288456, 7.99022693, 8.9875693 ,\n",
       "        9.98491167]),\n",
       " <a list of 10 Patch objects>)"
      ]
     },
     "execution_count": 14,
     "metadata": {},
     "output_type": "execute_result"
    },
    {
     "data": {
      "image/png": "[encoded data removed]",
      "text/plain": [
       "<Figure size 432x288 with 1 Axes>"
      ]
     },
     "metadata": {},
     "output_type": "display_data"
    }
   ],
   "source": [
    "plt.hist(s)"
   ]
  },
  {
   "cell_type": "markdown",
   "metadata": {},
   "source": [
    "## The random.normal distribution\n"
   ]
  },
  {
   "cell_type": "code",
   "execution_count": null,
   "metadata": {},
   "outputs": [],
   "source": []
  }
 ],
 "metadata": {
  "kernelspec": {
   "display_name": "Python 3",
   "language": "python",
   "name": "python3"
  },
  "language_info": {
   "codemirror_mode": {
    "name": "ipython",
    "version": 3
   },
   "file_extension": ".py",
   "mimetype": "text/x-python",
   "name": "python",
   "nbconvert_exporter": "python",
   "pygments_lexer": "ipython3",
   "version": "3.6.5"
  }
 },
 "nbformat": 4,
 "nbformat_minor": 2
}
